{
  "nbformat": 4,
  "nbformat_minor": 0,
  "metadata": {
    "colab": {
      "provenance": [],
      "toc_visible": true
    },
    "kernelspec": {
      "name": "python3",
      "display_name": "Python 3"
    },
    "language_info": {
      "name": "python"
    }
  },
  "cells": [
    {
      "cell_type": "code",
      "execution_count": 1,
      "metadata": {
        "id": "MasuFl9xu-er"
      },
      "outputs": [],
      "source": [
        "import torch\n",
        "import random\n",
        "import torchvision\n",
        "import itertools\n",
        "import numpy as np\n",
        "from IPython.display import clear_output\n",
        "import torch.nn as nn\n",
        "import seaborn as sns\n",
        "from einops import rearrange\n",
        "from tqdm import tqdm\n",
        "from random import Random\n",
        "import torch.optim as optim\n",
        "import matplotlib.pyplot as plt\n",
        "import torch.nn.functional as F\n",
        "import torchvision.transforms as transforms\n",
        "from torchvision.transforms import Resize, ToTensor\n",
        "from torch.utils.data import DataLoader, TensorDataset\n",
        "from torchvision.transforms.functional import to_pil_image\n",
        "from sklearn.metrics import confusion_matrix, classification_report,accuracy_score"
      ]
    },
    {
      "cell_type": "code",
      "source": [
        "Batch_size = 12"
      ],
      "metadata": {
        "id": "heqQm9xz10iM"
      },
      "execution_count": 2,
      "outputs": []
    },
    {
      "cell_type": "markdown",
      "source": [
        "# DATASET"
      ],
      "metadata": {
        "id": "fNR_nx2kZL5u"
      }
    },
    {
      "cell_type": "code",
      "source": [
        "transform = transforms.Compose([\n",
        "    transforms.ToTensor(),\n",
        "    transforms.Normalize(mean=[0.5], std=[0.5])\n",
        "])\n",
        "device = torch.device('cuda' if torch.cuda.is_available() else 'cpu')\n",
        "\n",
        "Actual_train_dataset = torchvision.datasets.MNIST(root='./data',train=True,download = True,transform = transform)\n",
        "Actual_test_dataset = torchvision.datasets.MNIST(root='./data',train = False,download = True,transform = transform)"
      ],
      "metadata": {
        "id": "H4YS7t0cvKcn"
      },
      "execution_count": 3,
      "outputs": []
    },
    {
      "cell_type": "code",
      "source": [
        "classes_to_sample = [0,1,2]"
      ],
      "metadata": {
        "id": "I1lVsE1EvZt8"
      },
      "execution_count": 4,
      "outputs": []
    },
    {
      "cell_type": "code",
      "source": [
        "train_samples = []\n",
        "previous_train_indices = []\n",
        "for cls in classes_to_sample:\n",
        "  class_indices = [i for i,label in enumerate(Actual_train_dataset.targets) if label == cls]\n",
        "  sampled_indices = np.random.choice(class_indices,100,replace = False)\n",
        "  previous_train_indices.append(sampled_indices)\n",
        "  # print(sampled_indices)\n",
        "  sampled_images = torch.stack([Actual_train_dataset[i][0] for i in sampled_indices])\n",
        "  train_samples.append(sampled_images)\n",
        "\n",
        "train_samples = torch.cat(train_samples,dim=0)\n",
        "# print(previous_train_indices)\n"
      ],
      "metadata": {
        "id": "5TU-KP57vdFM"
      },
      "execution_count": 5,
      "outputs": []
    },
    {
      "cell_type": "code",
      "source": [
        "test_samples=[]\n",
        "previous_test_indices=[]\n",
        "for cls in classes_to_sample:\n",
        "  class_indices = [i for i,label in enumerate(Actual_test_dataset.targets) if label == cls]\n",
        "  sampled_indices = np.random.choice(class_indices,100, replace = False)\n",
        "  previous_test_indices.append(sampled_indices)\n",
        "  sampled_images = torch.stack([Actual_test_dataset[i][0] for i in sampled_indices])\n",
        "  test_samples.append(sampled_images)\n",
        "\n",
        "test_samples = torch.cat(test_samples,dim=0)\n",
        "print(len(test_samples))"
      ],
      "metadata": {
        "colab": {
          "base_uri": "https://localhost:8080/"
        },
        "id": "2EG8-nCbvv0v",
        "outputId": "82455422-196e-4a8f-da66-1b6a3bea3795"
      },
      "execution_count": 6,
      "outputs": [
        {
          "output_type": "stream",
          "name": "stdout",
          "text": [
            "300\n"
          ]
        }
      ]
    },
    {
      "cell_type": "markdown",
      "source": [
        "Convert the datasets to pytorch TensorDatasets"
      ],
      "metadata": {
        "id": "ELvgsuNWwPRJ"
      }
    },
    {
      "cell_type": "code",
      "source": [
        "train_labels = torch.cat([torch.full((100,),i) for i in [0,1,2]])\n",
        "test_labels = torch.cat([torch.full((100,),i) for i in [0,1,2]])\n",
        "\n",
        "train_dataset = TensorDataset(train_samples,train_labels)\n",
        "test_dataset = TensorDataset(test_samples,test_labels)"
      ],
      "metadata": {
        "id": "4i_q_T2lvz_S"
      },
      "execution_count": 7,
      "outputs": []
    },
    {
      "cell_type": "code",
      "source": [
        "train_loader = DataLoader(train_dataset,batch_size=Batch_size,shuffle=True)\n",
        "test_loader = DataLoader(test_dataset,batch_size=Batch_size,shuffle=False)"
      ],
      "metadata": {
        "id": "6aytkDInwWqO"
      },
      "execution_count": 8,
      "outputs": []
    },
    {
      "cell_type": "markdown",
      "source": [
        "# 1 a\n",
        "VIT Blocks"
      ],
      "metadata": {
        "id": "DvDpXr84AbXt"
      }
    },
    {
      "cell_type": "code",
      "source": [
        "img_size = 28  # MNIST images are 28x28\n",
        "patch_size = 7  # As per the question\n",
        "num_patches = (img_size // patch_size) ** 2  # Should be 16 for 28x28 images with 7x7 patches\n",
        "embed_dim = 128  # As per the question\n",
        "num_heads = 8\n",
        "depth = 2\n",
        "mlp_dim = 256\n",
        "learning_rate = 0.001"
      ],
      "metadata": {
        "id": "aRJJDU_AAveq"
      },
      "execution_count": 9,
      "outputs": []
    },
    {
      "cell_type": "code",
      "source": [
        "class PatchEmbedding_conv(nn.Module):\n",
        "  def __init__(self,img_size,patch_size,in_channels=1,embed_dim=128):\n",
        "    super(PatchEmbedding_conv,self).__init__()\n",
        "    self.patch_size = patch_size\n",
        "    self.proj = nn.Conv2d(in_channels,embed_dim,kernel_size=patch_size,stride=patch_size)\n",
        "\n",
        "  def forward(self,x):\n",
        "    x = self.proj(x)\n",
        "    x=rearrange(x,'b e h w -> b (h w) e')\n",
        "    return x\n",
        "\n",
        "patch_embedding = PatchEmbedding_conv(img_size,patch_size)\n",
        "sample_image = next(iter(train_loader))[0][0].unsqueeze(0)\n",
        "# sample_image = torch.randn(12,1,28,28)\n",
        "# print(sample_image.shape)\n",
        "patches = patch_embedding(sample_image)\n",
        "print(patches.shape)\n"
      ],
      "metadata": {
        "colab": {
          "base_uri": "https://localhost:8080/"
        },
        "id": "DQJO4mqRwZHm",
        "outputId": "34e1a718-3b50-4e37-9900-1b64708c16f8"
      },
      "execution_count": 10,
      "outputs": [
        {
          "output_type": "stream",
          "name": "stdout",
          "text": [
            "torch.Size([1, 16, 128])\n"
          ]
        }
      ]
    },
    {
      "cell_type": "markdown",
      "source": [
        "MASKING"
      ],
      "metadata": {
        "id": "n9HGWH14ZXdX"
      }
    },
    {
      "cell_type": "code",
      "source": [
        "from os import pathconf_names\n",
        "def mask_tokens(x, mask_ratio=0.5):\n",
        "    \"\"\"\n",
        "    x: Tensor of shape (batch_size, num_patches, embed_dim)\n",
        "    mask_ratio: The ratio of tokens to mask\n",
        "    Returns:\n",
        "        masked_x: Tensor with masked tokens replaced by zeros\n",
        "        mask: Boolean mask indicating which tokens are masked\n",
        "    \"\"\"\n",
        "    batch_size, num_patches, embed_dim = x.shape\n",
        "    num_masked = int(num_patches * mask_ratio)\n",
        "    mask = torch.zeros(batch_size, num_patches, dtype=torch.bool)\n",
        "\n",
        "    for i in range(batch_size):\n",
        "        masked_indices = random.sample(range(num_patches), num_masked)\n",
        "        mask[i, masked_indices] = True\n",
        "\n",
        "    masked_x = x.clone()\n",
        "    masked_x[mask.unsqueeze(-1).expand_as(x)] = 0\n",
        "    return masked_x, mask\n",
        "\n",
        "x,y = mask_tokens(patches)"
      ],
      "metadata": {
        "id": "jNZbx75e2YRw"
      },
      "execution_count": 11,
      "outputs": []
    },
    {
      "cell_type": "markdown",
      "source": [
        "MultiHead Self Attention"
      ],
      "metadata": {
        "id": "NJ9Dlp8BpZhh"
      }
    },
    {
      "cell_type": "code",
      "source": [
        "class MultiHeadSelfAttention(nn.Module):\n",
        "    def __init__(self, embed_dim, num_heads):\n",
        "        super(MultiHeadSelfAttention, self).__init__()\n",
        "        assert embed_dim % num_heads == 0, \"Embedding dimension must be divisible by the number of heads.\"\n",
        "        self.num_heads = num_heads\n",
        "        self.head_dim = embed_dim // num_heads\n",
        "\n",
        "        self.query = nn.Linear(embed_dim, embed_dim)\n",
        "        self.key = nn.Linear(embed_dim, embed_dim)\n",
        "        self.value = nn.Linear(embed_dim, embed_dim)\n",
        "        self.out = nn.Linear(embed_dim, embed_dim)\n",
        "\n",
        "    def forward(self, x):\n",
        "        # print(x.shape)\n",
        "        B, N, C = x.shape\n",
        "        q = self.query(x).view(B, N, self.num_heads, self.head_dim)\n",
        "        k = self.key(x).view(B, N, self.num_heads, self.head_dim)\n",
        "        v = self.value(x).view(B, N, self.num_heads, self.head_dim)\n",
        "\n",
        "        q, k, v = map(lambda t: rearrange(t, 'b n h d -> b h n d'), (q, k, v))\n",
        "\n",
        "        attn = (q @ k.transpose(-2, -1)) * (self.head_dim ** -0.5)\n",
        "\n",
        "        attn = attn.softmax(dim=-1)\n",
        "        # print(attn.shape)\n",
        "        out = (attn @ v).transpose(1, 2).reshape(B, N, C)\n",
        "        out = self.out(out)\n",
        "        return out,attn\n",
        "\n",
        "# Test Multi-Head Self-Attention\n",
        "mhsa = MultiHeadSelfAttention(embed_dim=128, num_heads=8)\n",
        "attn_output,attn = mhsa(patches)\n",
        "# print(attn.shape)\n",
        "print(attn_output.shape)  # Expected shape: (1, num_patches, embed_dim)\n"
      ],
      "metadata": {
        "colab": {
          "base_uri": "https://localhost:8080/"
        },
        "id": "7gDa9f7xwgkA",
        "outputId": "bcd9f47c-9c12-46c1-cc0f-e9d991347c70"
      },
      "execution_count": 12,
      "outputs": [
        {
          "output_type": "stream",
          "name": "stdout",
          "text": [
            "torch.Size([1, 16, 128])\n"
          ]
        }
      ]
    },
    {
      "cell_type": "markdown",
      "source": [
        "Encoder Block"
      ],
      "metadata": {
        "id": "tG3zj6Xypd20"
      }
    },
    {
      "cell_type": "code",
      "source": [
        "class TransformerEncoderBlock(nn.Module):\n",
        "    def __init__(self, embed_dim, num_heads, mlp_dim, dropout=0):\n",
        "        super(TransformerEncoderBlock, self).__init__()\n",
        "        self.norm1 = nn.LayerNorm(embed_dim)\n",
        "        self.mhsa = MultiHeadSelfAttention(embed_dim, num_heads)\n",
        "        self.dropout1 = nn.Dropout(dropout)\n",
        "\n",
        "        self.norm2 = nn.LayerNorm(embed_dim)\n",
        "        self.mlp = nn.Sequential(\n",
        "            nn.Linear(embed_dim, mlp_dim),\n",
        "            nn.GELU(),\n",
        "            nn.Linear(mlp_dim, embed_dim),\n",
        "            nn.Dropout(dropout),\n",
        "        )\n",
        "        self.dropout2 = nn.Dropout(dropout)\n",
        "\n",
        "    def forward(self, x):\n",
        "        attn_out,attn=self.mhsa(x)\n",
        "        x = x + self.dropout1(attn_out)\n",
        "        x = x + self.norm2(self.mlp(self.norm1(x)))\n",
        "        return x\n",
        "\n",
        "# Test Transformer Encoder Block\n",
        "encoder_block = TransformerEncoderBlock(embed_dim=128, num_heads=8, mlp_dim=256)\n",
        "encoded_output = encoder_block(attn_output)\n",
        "print(encoded_output.shape)  # Expected shape: (1, num_patches, embed_dim)\n"
      ],
      "metadata": {
        "colab": {
          "base_uri": "https://localhost:8080/"
        },
        "id": "Gje28s_KAcJ1",
        "outputId": "55c3a60a-6737-47da-e0e0-eadd9377fa5b"
      },
      "execution_count": 13,
      "outputs": [
        {
          "output_type": "stream",
          "name": "stdout",
          "text": [
            "torch.Size([1, 16, 128])\n"
          ]
        }
      ]
    },
    {
      "cell_type": "markdown",
      "source": [
        "VIT by using MAE loss function."
      ],
      "metadata": {
        "id": "Bh31Htr9pgr3"
      }
    },
    {
      "cell_type": "code",
      "source": [
        "class VisionTransformerMAE(nn.Module):\n",
        "    def __init__(self, img_size=28, patch_size=7, embed_dim=128, depth=2, num_heads=8, mlp_dim=256, dropout=0.1):\n",
        "        super(VisionTransformerMAE, self).__init__()\n",
        "        self.patch_embedding = PatchEmbedding_conv(img_size, patch_size, in_channels=1, embed_dim=embed_dim)\n",
        "        num_patches = (img_size // patch_size) ** 2  # Should be 16 for 28x28 images with 7x7 patches\n",
        "\n",
        "        # Positional embedding without class token\n",
        "        self.pos_embedding = nn.Parameter(torch.randn(1, num_patches, embed_dim))\n",
        "        self.dropout = nn.Dropout(dropout)\n",
        "\n",
        "        self.encoder = nn.ModuleList([\n",
        "            TransformerEncoderBlock(embed_dim, num_heads, mlp_dim, dropout)\n",
        "            for _ in range(depth)\n",
        "        ])\n",
        "\n",
        "        # Prediction head for reconstructing the masked patches\n",
        "        self.prediction_head = nn.Linear(embed_dim, embed_dim)\n",
        "\n",
        "    def forward_encoder(self, x):\n",
        "        \"\"\"\n",
        "        Forward pass through the encoder.\n",
        "        x: Input tensor of shape (batch_size, num_patches, embed_dim)\n",
        "        \"\"\"\n",
        "        x = self.dropout(x)\n",
        "        for encoder_block in self.encoder:\n",
        "            x = encoder_block(x)\n",
        "        return x\n",
        "\n",
        "    def forward(self, x):\n",
        "        # Apply the prediction head to all tokens\n",
        "        x = self.prediction_head(self.forward_encoder(x))\n",
        "        return x\n"
      ],
      "metadata": {
        "id": "mJuVI7OYLxVf"
      },
      "execution_count": 14,
      "outputs": []
    },
    {
      "cell_type": "markdown",
      "source": [
        "MAE Loss function"
      ],
      "metadata": {
        "id": "Dqrx_FD5pl8P"
      }
    },
    {
      "cell_type": "code",
      "source": [
        "def compute_mae_loss(predictions, targets, mask):\n",
        "    \"\"\"\n",
        "    predictions: Tensor of shape (batch_size, num_patches, embed_dim)\n",
        "    targets: Tensor of shape (batch_size, num_patches, embed_dim)\n",
        "    mask: Boolean mask indicating which tokens were masked\n",
        "    \"\"\"\n",
        "    loss_fn = nn.MSELoss()\n",
        "    # Only compute loss on masked tokens\n",
        "    # print(mask.unsqueeze(-1).expand_as(predictions))\n",
        "    masked_predictions = predictions[mask.unsqueeze(-1).expand_as(predictions)]\n",
        "    masked_targets = targets[mask.unsqueeze(-1).expand_as(targets)]\n",
        "    loss = loss_fn(masked_predictions, masked_targets)\n",
        "    return loss\n"
      ],
      "metadata": {
        "id": "LFfg1rDmL5CZ"
      },
      "execution_count": 15,
      "outputs": []
    },
    {
      "cell_type": "markdown",
      "source": [
        "Plot to see whether it is masking the 50% of the patches or not"
      ],
      "metadata": {
        "id": "_zed9A1jouHA"
      }
    },
    {
      "cell_type": "code",
      "source": [
        "# def plot_tensor_image(tensor, index=0):\n",
        "#     \"\"\"\n",
        "#     Plots a single image from a tensor with shape (batch_size, height, width).\n",
        "\n",
        "#     Args:\n",
        "#         tensor (torch.Tensor): Input tensor of shape (batch_size, height, width).\n",
        "#         index (int): Index of the image in the batch to plot.\n",
        "#     \"\"\"\n",
        "#     # Ensure the tensor is on the CPU and detach if necessary\n",
        "#     tensor = tensor.cpu().detach()\n",
        "\n",
        "#     # Select the image at the specified index\n",
        "#     image = tensor[index]\n",
        "\n",
        "#     # Plot the image (considering it as a grayscale image)\n",
        "#     plt.imshow(image, cmap='gray')\n",
        "#     plt.title(f\"Image from batch index {index}\")\n",
        "#     plt.show()\n",
        "\n",
        "# # # Example usage with a tensor of shape (12, 16, 128)\n",
        "# # tensor = torch.randn(12, 16, 128)\n",
        "# # plot_tensor_image(tensor, index=0)  # Plots the first image in the batch\n"
      ],
      "metadata": {
        "id": "UFMcfncpn9zC"
      },
      "execution_count": 16,
      "outputs": []
    },
    {
      "cell_type": "markdown",
      "source": [
        "Initialize the model and optimizer"
      ],
      "metadata": {
        "id": "WT8I1Dwipq29"
      }
    },
    {
      "cell_type": "code",
      "source": [
        "device = torch.device('cuda' if torch.cuda.is_available() else 'cpu')\n",
        "\n",
        "# Model parameters\n",
        "img_size = 28\n",
        "patch_size = 7\n",
        "embed_dim = 128\n",
        "depth = 2\n",
        "num_heads = 8\n",
        "mlp_dim = 256\n",
        "learning_rate = 0.001\n",
        "\n",
        "mae_model = VisionTransformerMAE(\n",
        "    img_size=img_size,\n",
        "    patch_size=patch_size,\n",
        "    embed_dim=embed_dim,\n",
        "    depth=depth,\n",
        "    num_heads=num_heads,\n",
        "    mlp_dim=mlp_dim,\n",
        "    dropout=0.1\n",
        ").to(device)\n",
        "\n",
        "optimizer = optim.Adam(mae_model.parameters(), lr=learning_rate)\n"
      ],
      "metadata": {
        "id": "L616yckKp1GA"
      },
      "execution_count": 17,
      "outputs": []
    },
    {
      "cell_type": "markdown",
      "source": [
        "MAE training pipeline"
      ],
      "metadata": {
        "id": "4LkZ2VAWqm2m"
      }
    },
    {
      "cell_type": "code",
      "source": [
        "num_epochs = 10 # At least 10 epochs as per the question\n",
        "\n",
        "for epoch in range(num_epochs):\n",
        "    mae_model.train()\n",
        "    total_loss = 0\n",
        "    for batch in train_loader:\n",
        "        images, _ = batch\n",
        "        images = images.to(device)\n",
        "\n",
        "        optimizer.zero_grad()\n",
        "\n",
        "        # Step 1: Obtain patches and add positional encoding\n",
        "        patches = mae_model.patch_embedding(images)  # Shape: (batch_size, num_patches, embed_dim)\n",
        "        # plot_tensor_image(patches, index=0)\n",
        "        patches += mae_model.pos_embedding  # Add positional encoding\n",
        "        # plot_tensor_image(patches, index=0)\n",
        "\n",
        "        # Step 2: Apply masking to patches\n",
        "        masked_patches, mask = mask_tokens(patches, mask_ratio=0.5)\n",
        "        masked_patches = masked_patches.to(device)\n",
        "        # plot_tensor_image(masked_patches, index=0)\n",
        "        mask = mask.to(device)\n",
        "\n",
        "\n",
        "        # Step 3: Forward pass through the encoder\n",
        "        encoded_patches = mae_model.forward_encoder(masked_patches)\n",
        "\n",
        "        # Step 4: Apply the prediction head\n",
        "        predictions = mae_model.prediction_head(encoded_patches)\n",
        "\n",
        "        # Step 5: Compute the loss\n",
        "        targets = patches  # Original patches with positional encoding\n",
        "        loss = compute_mae_loss(predictions, targets, mask)\n",
        "\n",
        "        # Step 6: Backpropagation and optimization\n",
        "        loss.backward()\n",
        "        optimizer.step()\n",
        "\n",
        "        total_loss += loss.item()\n",
        "\n",
        "    avg_loss = total_loss / len(train_loader)\n",
        "    print(f\"Epoch [{epoch + 1}/{num_epochs}], Loss: {avg_loss:.4f}\")\n"
      ],
      "metadata": {
        "id": "qEzjYbFf6VzY",
        "colab": {
          "base_uri": "https://localhost:8080/"
        },
        "outputId": "5d61cd89-f46e-4857-a33a-1e035e68df14"
      },
      "execution_count": 18,
      "outputs": [
        {
          "output_type": "stream",
          "name": "stdout",
          "text": [
            "Epoch [1/10], Loss: 1.1966\n",
            "Epoch [2/10], Loss: 0.9900\n",
            "Epoch [3/10], Loss: 0.8969\n",
            "Epoch [4/10], Loss: 0.8267\n",
            "Epoch [5/10], Loss: 0.7688\n",
            "Epoch [6/10], Loss: 0.7224\n",
            "Epoch [7/10], Loss: 0.6844\n",
            "Epoch [8/10], Loss: 0.6519\n",
            "Epoch [9/10], Loss: 0.6245\n",
            "Epoch [10/10], Loss: 0.5984\n"
          ]
        }
      ]
    },
    {
      "cell_type": "markdown",
      "source": [
        "# 1 a classifier\n",
        "Finetune the model for classification"
      ],
      "metadata": {
        "id": "uW4LnaNPZmhs"
      }
    },
    {
      "cell_type": "code",
      "source": [
        "class VisionTransformerClassifierMeanPool(nn.Module):\n",
        "    def __init__(self, pretrained_model, num_classes=3):\n",
        "        super(VisionTransformerClassifierMeanPool, self).__init__()\n",
        "        self.encoder = pretrained_model.encoder  # Use the pretrained encoder (from MAE)\n",
        "        self.patch_embedding = pretrained_model.patch_embedding\n",
        "        self.pos_embedding = pretrained_model.pos_embedding  # Use positional embeddings from pretrained model\n",
        "        self.dropout = pretrained_model.dropout\n",
        "\n",
        "        embed_dim = pretrained_model.pos_embedding.shape[-1]\n",
        "\n",
        "        # Classification head\n",
        "        self.mlp_head = nn.Sequential(\n",
        "            nn.LayerNorm(embed_dim),\n",
        "            nn.Linear(embed_dim, num_classes)  # Output: number of classes\n",
        "        )\n",
        "\n",
        "    def forward(self, x):\n",
        "        # Step 1: Patch Embedding\n",
        "        x = self.patch_embedding(x)  # Shape: (batch_size, num_patches, embed_dim)\n",
        "\n",
        "        # Step 2: Add Positional Encoding\n",
        "        x += self.pos_embedding  # Add positional encodings to the patches\n",
        "        x = self.dropout(x)\n",
        "\n",
        "        # Step 3: Pass through transformer encoder blocks\n",
        "        for encoder_block in self.encoder:\n",
        "            x = encoder_block(x)\n",
        "\n",
        "        # Step 4: Mean Pooling (instead of CLS token)\n",
        "        x = x.mean(dim=1)  # Mean pooling over all the patch tokens\n",
        "\n",
        "        # Step 5: Pass through classification head\n",
        "        x = self.mlp_head(x)  # Shape: (batch_size, num_classes)\n",
        "        return x\n"
      ],
      "metadata": {
        "id": "GjzemzSC90LM"
      },
      "execution_count": 19,
      "outputs": []
    },
    {
      "cell_type": "markdown",
      "source": [
        "Initialize the classifier model"
      ],
      "metadata": {
        "id": "J__ndXTNq3pR"
      }
    },
    {
      "cell_type": "code",
      "source": [
        "selected_classes = classes_to_sample\n",
        "classifier_model = VisionTransformerClassifierMeanPool(mae_model, num_classes=len(selected_classes)).to(device)\n",
        "\n",
        "# loss function and optimizer\n",
        "criterion = nn.CrossEntropyLoss()\n",
        "optimizer = optim.Adam(classifier_model.parameters(), lr=learning_rate)\n"
      ],
      "metadata": {
        "id": "whr9dmNIosv8"
      },
      "execution_count": 20,
      "outputs": []
    },
    {
      "cell_type": "markdown",
      "source": [
        "Finetuning pipeline"
      ],
      "metadata": {
        "id": "Nx8kn_cFq73J"
      }
    },
    {
      "cell_type": "code",
      "source": [
        "num_finetune_epochs = 10\n",
        "\n",
        "for epoch in range(num_finetune_epochs):\n",
        "    classifier_model.train()\n",
        "    total_loss = 0\n",
        "    for images, labels in train_loader:\n",
        "        images = images.to(device)\n",
        "        labels = labels.to(device)\n",
        "\n",
        "        optimizer.zero_grad()\n",
        "        outputs = classifier_model(images)\n",
        "        loss = criterion(outputs, labels)\n",
        "        loss.backward()\n",
        "        optimizer.step()\n",
        "\n",
        "        total_loss += loss.item()\n",
        "\n",
        "    avg_loss = total_loss / len(train_loader)\n",
        "    print(f\"Finetune Epoch [{epoch + 1}/{num_finetune_epochs}], Loss: {avg_loss:.4f}\")\n"
      ],
      "metadata": {
        "colab": {
          "base_uri": "https://localhost:8080/"
        },
        "id": "exSNzVuSot_0",
        "outputId": "9fc47075-812c-417e-f296-b33679acc071"
      },
      "execution_count": 21,
      "outputs": [
        {
          "output_type": "stream",
          "name": "stdout",
          "text": [
            "Finetune Epoch [1/10], Loss: 0.7585\n",
            "Finetune Epoch [2/10], Loss: 0.2919\n",
            "Finetune Epoch [3/10], Loss: 0.1690\n",
            "Finetune Epoch [4/10], Loss: 0.0828\n",
            "Finetune Epoch [5/10], Loss: 0.1020\n",
            "Finetune Epoch [6/10], Loss: 0.1613\n",
            "Finetune Epoch [7/10], Loss: 0.1201\n",
            "Finetune Epoch [8/10], Loss: 0.0387\n",
            "Finetune Epoch [9/10], Loss: 0.0487\n",
            "Finetune Epoch [10/10], Loss: 0.0380\n"
          ]
        }
      ]
    },
    {
      "cell_type": "markdown",
      "source": [
        "Evaluate the model on Test dataset"
      ],
      "metadata": {
        "id": "m7IzFjMCrEcD"
      }
    },
    {
      "cell_type": "code",
      "source": [
        "classifier_model.eval()\n",
        "all_preds = []\n",
        "all_labels = []\n",
        "\n",
        "with torch.no_grad():\n",
        "    for images, labels in test_loader:\n",
        "        images = images.to(device)\n",
        "        labels = labels.to(device)\n",
        "\n",
        "        outputs = classifier_model(images)\n",
        "        _, preds = torch.max(outputs, 1)\n",
        "\n",
        "        all_preds.extend(preds.cpu().numpy())\n",
        "        all_labels.extend(labels.cpu().numpy())\n"
      ],
      "metadata": {
        "id": "EhdSS6Rwo9-M"
      },
      "execution_count": 22,
      "outputs": []
    },
    {
      "cell_type": "markdown",
      "source": [
        "# 1a Accuracy and confusion Matrix\n",
        "Test Accuracy and Confusion Matrix"
      ],
      "metadata": {
        "id": "8dpOZyJXsrsZ"
      }
    },
    {
      "cell_type": "code",
      "source": [
        "# Compute accuracy\n",
        "accuracy = accuracy_score(all_labels, all_preds)\n",
        "print(f\"Test Accuracy: {accuracy * 100:.2f}%\")\n",
        "\n",
        "# Compute confusion matrix\n",
        "conf_matrix = confusion_matrix(all_labels, all_preds)\n",
        "print(\"Confusion Matrix:\")\n",
        "print(conf_matrix)\n",
        "\n",
        "plt.figure(figsize=(8, 6))\n",
        "sns.heatmap(conf_matrix, annot=True, fmt=\"d\", cmap=\"Blues\",\n",
        "            xticklabels=selected_classes, yticklabels=selected_classes)\n",
        "plt.xlabel(\"Predicted\")\n",
        "plt.ylabel(\"True\")\n",
        "plt.title(\"Confusion Matrix\")\n",
        "plt.show()\n"
      ],
      "metadata": {
        "colab": {
          "base_uri": "https://localhost:8080/",
          "height": 651
        },
        "id": "G6DYC1ImpCMG",
        "outputId": "35311567-1134-4a9a-ee19-3accb91207fc"
      },
      "execution_count": 23,
      "outputs": [
        {
          "output_type": "stream",
          "name": "stdout",
          "text": [
            "Test Accuracy: 98.00%\n",
            "Confusion Matrix:\n",
            "[[98  0  2]\n",
            " [ 0 98  2]\n",
            " [ 2  0 98]]\n"
          ]
        },
        {
          "output_type": "display_data",
          "data": {
            "text/plain": [
              "<Figure size 800x600 with 2 Axes>"
            ],
            "image/png": "[encoded data removed]"
          },
          "metadata": {}
        }
      ]
    },
    {
      "cell_type": "markdown",
      "source": [
        "# 1 b - VIT with cls token\n"
      ],
      "metadata": {
        "id": "GsaEqVlRRm0M"
      }
    },
    {
      "cell_type": "code",
      "source": [
        "class VisionTransformerWithCLS(nn.Module):\n",
        "    def __init__(self, img_size=28, patch_size=7, embed_dim=128, depth=2, num_heads=8, mlp_dim=256, dropout=0.1):\n",
        "        super(VisionTransformerWithCLS, self).__init__()\n",
        "        self.patch_embedding = PatchEmbedding_conv(img_size, patch_size, in_channels=1, embed_dim=embed_dim)\n",
        "        num_patches = (img_size // patch_size) ** 2  # Should be 16 for 28x28 images with 7x7 patches\n",
        "\n",
        "        # Initialize class token and positional embeddings\n",
        "        self.cls_token = nn.Parameter(torch.randn(1, 1, embed_dim))\n",
        "        self.pos_embedding = nn.Parameter(torch.randn(1, num_patches + 1, embed_dim))  # +1 for CLS token\n",
        "        self.dropout = nn.Dropout(dropout)\n",
        "\n",
        "        # Transformer encoder blocks\n",
        "        self.encoder = nn.ModuleList([\n",
        "            TransformerEncoderBlock(embed_dim, num_heads, mlp_dim, dropout)\n",
        "            for _ in range(depth)\n",
        "        ])\n",
        "\n",
        "    def forward(self, x):\n",
        "        x = self.patch_embedding(x)  # Shape: (batch_size, num_patches, embed_dim)\n",
        "\n",
        "        batch_size = x.shape[0]\n",
        "        cls_tokens = self.cls_token.expand(batch_size, -1, -1)  # Shape: (batch_size, 1, embed_dim)\n",
        "        x = torch.cat((cls_tokens, x), dim=1)  # Now x has shape (batch_size, num_patches + 1, embed_dim)\n",
        "\n",
        "        x += self.pos_embedding\n",
        "        x = self.dropout(x)\n",
        "\n",
        "        for encoder_block in self.encoder:\n",
        "            x = encoder_block(x)\n",
        "\n",
        "        return x  # Return all tokens including CLS token\n"
      ],
      "metadata": {
        "id": "VXFJIivARqZW"
      },
      "execution_count": 24,
      "outputs": []
    },
    {
      "cell_type": "markdown",
      "source": [
        "InfoNCE Loss"
      ],
      "metadata": {
        "id": "zVVY6feEuAr5"
      }
    },
    {
      "cell_type": "code",
      "source": [
        "def info_nce_loss(features, labels, temperature=0.5):\n",
        "    \"\"\"\n",
        "    Compute the InfoNCE loss for a batch of features.\n",
        "\n",
        "    features: Tensor of shape (batch_size, embed_dim)\n",
        "    labels: Tensor of shape (batch_size)\n",
        "    temperature: Temperature parameter for scaling.\n",
        "\n",
        "    Returns:\n",
        "        loss: Scalar tensor representing the loss.\n",
        "    \"\"\"\n",
        "    batch_size = features.shape[0]\n",
        "    # Normalize features\n",
        "    features = F.normalize(features, dim=1)\n",
        "\n",
        "    # Compute similarity matrix\n",
        "    similarity_matrix = torch.matmul(features, features.T)  # Shape: (batch_size, batch_size)\n",
        "    similarity_matrix = similarity_matrix / temperature\n",
        "\n",
        "    # Create labels for InfoNCE loss\n",
        "    labels = labels.contiguous().view(-1, 1)  # Shape: (batch_size, 1)\n",
        "    mask = torch.eq(labels, labels.T).float().to(features.device)  # Shape: (batch_size, batch_size)\n",
        "\n",
        "    # Remove self-similarity\n",
        "    logits_mask = torch.ones_like(mask) - torch.eye(batch_size).to(features.device)\n",
        "    mask = mask * logits_mask\n",
        "\n",
        "    # Compute log probabilities\n",
        "    exp_sim = torch.exp(similarity_matrix) * logits_mask\n",
        "    log_prob = similarity_matrix - torch.log(exp_sim.sum(dim=1, keepdim=True) + 1e-8)\n",
        "\n",
        "    # Compute mean of log-likelihood over positive samples\n",
        "    mean_log_prob_pos = (mask * log_prob).sum(dim=1) / (mask.sum(dim=1) + 1e-8)\n",
        "\n",
        "    # Loss\n",
        "    loss = -mean_log_prob_pos.mean()\n",
        "\n",
        "    return loss\n"
      ],
      "metadata": {
        "id": "-9DyCg0IRsX-"
      },
      "execution_count": 25,
      "outputs": []
    },
    {
      "cell_type": "markdown",
      "source": [
        "Intializing the model and parameters and optimizer"
      ],
      "metadata": {
        "id": "sgCD8AvFuEQv"
      }
    },
    {
      "cell_type": "code",
      "source": [
        "device = torch.device('cuda' if torch.cuda.is_available() else 'cpu')\n",
        "\n",
        "# Model parameters\n",
        "img_size = 28\n",
        "patch_size = 7\n",
        "embed_dim = 128\n",
        "depth = 2\n",
        "num_heads = 8\n",
        "mlp_dim = 256\n",
        "learning_rate = 0.001\n",
        "\n",
        "# Initialize the model\n",
        "vit_model = VisionTransformerWithCLS(\n",
        "    img_size=img_size,\n",
        "    patch_size=patch_size,\n",
        "    embed_dim=embed_dim,\n",
        "    depth=depth,\n",
        "    num_heads=num_heads,\n",
        "    mlp_dim=mlp_dim,\n",
        "    dropout=0.1\n",
        ").to(device)\n",
        "\n",
        "optimizer = optim.Adam(vit_model.parameters(), lr=learning_rate)\n"
      ],
      "metadata": {
        "id": "0VdRHhhYRvAM"
      },
      "execution_count": 26,
      "outputs": []
    },
    {
      "cell_type": "markdown",
      "source": [
        "Training pipeline"
      ],
      "metadata": {
        "id": "H00d8feWuNx-"
      }
    },
    {
      "cell_type": "code",
      "source": [
        "import torch.nn.functional as F\n",
        "\n",
        "num_epochs = 10  # At least 10 epochs as per the question\n",
        "\n",
        "for epoch in range(num_epochs):\n",
        "    vit_model.train()\n",
        "    total_loss = 0\n",
        "    for images, labels in train_loader:\n",
        "        images = images.to(device)\n",
        "        labels = labels.to(device)\n",
        "\n",
        "        optimizer.zero_grad()\n",
        "\n",
        "        # Forward pass\n",
        "        outputs = vit_model(images)  # Shape: (batch_size, num_patches + 1, embed_dim)\n",
        "        cls_tokens = outputs[:, 0]  # Extract CLS token representations\n",
        "\n",
        "        # Compute InfoNCE loss\n",
        "        loss = info_nce_loss(cls_tokens, labels)\n",
        "\n",
        "        # Backpropagation and optimization\n",
        "        loss.backward()\n",
        "        optimizer.step()\n",
        "\n",
        "        total_loss += loss.item()\n",
        "\n",
        "    avg_loss = total_loss / len(train_loader)\n",
        "    print(f\"Epoch [{epoch + 1}/{num_epochs}], Loss: {avg_loss:.4f}\")\n"
      ],
      "metadata": {
        "colab": {
          "base_uri": "https://localhost:8080/"
        },
        "id": "9SrlBmSSR3s-",
        "outputId": "6a00ed6e-a192-4e23-c9e6-3ece7108e6c8"
      },
      "execution_count": 27,
      "outputs": [
        {
          "output_type": "stream",
          "name": "stdout",
          "text": [
            "Epoch [1/10], Loss: 2.1687\n",
            "Epoch [2/10], Loss: 1.8095\n",
            "Epoch [3/10], Loss: 1.6822\n",
            "Epoch [4/10], Loss: 1.5964\n",
            "Epoch [5/10], Loss: 1.6806\n",
            "Epoch [6/10], Loss: 1.8883\n",
            "Epoch [7/10], Loss: 1.6188\n",
            "Epoch [8/10], Loss: 1.4424\n",
            "Epoch [9/10], Loss: 1.4506\n",
            "Epoch [10/10], Loss: 1.4340\n"
          ]
        }
      ]
    },
    {
      "cell_type": "markdown",
      "source": [
        "Finetuning the Model for classificaiton"
      ],
      "metadata": {
        "id": "NLmSGkosuUHT"
      }
    },
    {
      "cell_type": "code",
      "source": [
        "class VisionTransformerClassifierWithCLS(nn.Module):\n",
        "    def __init__(self, pretrained_model, num_classes=3):\n",
        "        super(VisionTransformerClassifierWithCLS, self).__init__()\n",
        "        self.encoder = pretrained_model.encoder  # Use the pretrained encoder\n",
        "        self.patch_embedding = pretrained_model.patch_embedding\n",
        "        self.cls_token = pretrained_model.cls_token\n",
        "        self.pos_embedding = pretrained_model.pos_embedding\n",
        "        self.dropout = pretrained_model.dropout\n",
        "\n",
        "        # Classification head\n",
        "        embed_dim = pretrained_model.cls_token.shape[-1]\n",
        "        self.mlp_head = nn.Sequential(\n",
        "            nn.LayerNorm(embed_dim),\n",
        "            nn.Linear(embed_dim, num_classes)\n",
        "        )\n",
        "\n",
        "    def forward(self, x):\n",
        "        x = self.patch_embedding(x)  # Shape: (batch_size, num_patches, embed_dim)\n",
        "\n",
        "        batch_size = x.shape[0]\n",
        "        cls_tokens = self.cls_token.expand(batch_size, -1, -1)  # Shape: (batch_size, 1, embed_dim)\n",
        "        x = torch.cat((cls_tokens, x), dim=1)  # Now x has shape (batch_size, num_patches + 1, embed_dim)\n",
        "\n",
        "        x += self.pos_embedding\n",
        "        x = self.dropout(x)\n",
        "\n",
        "        for encoder_block in self.encoder:\n",
        "            x = encoder_block(x)\n",
        "\n",
        "        # Classification is based on the class token\n",
        "        x = self.mlp_head(x[:, 0])  # Use the class token representation\n",
        "        return x\n"
      ],
      "metadata": {
        "id": "v26yh4HER7B0"
      },
      "execution_count": 28,
      "outputs": []
    },
    {
      "cell_type": "markdown",
      "source": [
        "Initialize the classifier model"
      ],
      "metadata": {
        "id": "WxcQ8t8JuYuT"
      }
    },
    {
      "cell_type": "code",
      "source": [
        "classifier_model = VisionTransformerClassifierWithCLS(vit_model, num_classes=len(selected_classes)).to(device)\n",
        "\n",
        "# Define the optimizer and loss function\n",
        "criterion = nn.CrossEntropyLoss()\n",
        "optimizer = optim.Adam(classifier_model.parameters(), lr=learning_rate)\n"
      ],
      "metadata": {
        "id": "SFiMMzbJR-YJ"
      },
      "execution_count": 29,
      "outputs": []
    },
    {
      "cell_type": "markdown",
      "source": [
        "Finetuning pipeline"
      ],
      "metadata": {
        "id": "kTUQmgNwuczG"
      }
    },
    {
      "cell_type": "code",
      "source": [
        "num_finetune_epochs = 10  # You can adjust this\n",
        "\n",
        "for epoch in range(num_finetune_epochs):\n",
        "    classifier_model.train()\n",
        "    total_loss = 0\n",
        "    for images, labels in train_loader:\n",
        "        images = images.to(device)\n",
        "        labels = labels.to(device)\n",
        "\n",
        "        optimizer.zero_grad()\n",
        "        outputs = classifier_model(images)\n",
        "        loss = criterion(outputs, labels)\n",
        "        loss.backward()\n",
        "        optimizer.step()\n",
        "\n",
        "        total_loss += loss.item()\n",
        "\n",
        "    avg_loss = total_loss / len(train_loader)\n",
        "    print(f\"Finetune Epoch [{epoch + 1}/{num_finetune_epochs}], Loss: {avg_loss:.4f}\")\n"
      ],
      "metadata": {
        "colab": {
          "base_uri": "https://localhost:8080/"
        },
        "id": "OamfZV_MSBSH",
        "outputId": "08bd35fd-3a9c-4eca-e217-6eec1f9166f3"
      },
      "execution_count": 30,
      "outputs": [
        {
          "output_type": "stream",
          "name": "stdout",
          "text": [
            "Finetune Epoch [1/10], Loss: 0.2100\n",
            "Finetune Epoch [2/10], Loss: 0.1551\n",
            "Finetune Epoch [3/10], Loss: 0.0582\n",
            "Finetune Epoch [4/10], Loss: 0.0506\n",
            "Finetune Epoch [5/10], Loss: 0.0696\n",
            "Finetune Epoch [6/10], Loss: 0.0540\n",
            "Finetune Epoch [7/10], Loss: 0.0415\n",
            "Finetune Epoch [8/10], Loss: 0.0203\n",
            "Finetune Epoch [9/10], Loss: 0.0172\n",
            "Finetune Epoch [10/10], Loss: 0.0196\n"
          ]
        }
      ]
    },
    {
      "cell_type": "markdown",
      "source": [
        "Evaluating the model on the test dataset"
      ],
      "metadata": {
        "id": "Y8pTdf-juhwW"
      }
    },
    {
      "cell_type": "code",
      "source": [
        "classifier_model.eval()\n",
        "all_preds = []\n",
        "all_labels = []\n",
        "\n",
        "with torch.no_grad():\n",
        "    for images, labels in test_loader:\n",
        "        images = images.to(device)\n",
        "        labels = labels.to(device)\n",
        "\n",
        "        outputs = classifier_model(images)\n",
        "        _, preds = torch.max(outputs, 1)\n",
        "\n",
        "        all_preds.extend(preds.cpu().numpy())\n",
        "        all_labels.extend(labels.cpu().numpy())\n"
      ],
      "metadata": {
        "id": "Jp3hF_x8SDLk"
      },
      "execution_count": 31,
      "outputs": []
    },
    {
      "cell_type": "markdown",
      "source": [
        "# 1b Accuracy and Confusion Matrix\n",
        "Test accuracy and confusion matrix"
      ],
      "metadata": {
        "id": "EhSIXoFnupwo"
      }
    },
    {
      "cell_type": "code",
      "source": [
        "# Compute accuracy\n",
        "accuracy = accuracy_score(all_labels, all_preds)\n",
        "print(f\"Test Accuracy: {accuracy * 100:.2f}%\")\n",
        "\n",
        "# Compute confusion matrix\n",
        "conf_matrix = confusion_matrix(all_labels, all_preds)\n",
        "print(\"Confusion Matrix:\")\n",
        "print(conf_matrix)\n",
        "\n",
        "plt.figure(figsize=(8, 6))\n",
        "sns.heatmap(conf_matrix, annot=True, fmt=\"d\", cmap=\"Blues\",\n",
        "            xticklabels=selected_classes, yticklabels=selected_classes)\n",
        "plt.xlabel(\"Predicted\")\n",
        "plt.ylabel(\"True\")\n",
        "plt.title(\"Confusion Matrix\")\n",
        "plt.show()"
      ],
      "metadata": {
        "colab": {
          "base_uri": "https://localhost:8080/",
          "height": 651
        },
        "id": "8bkkxinuSISn",
        "outputId": "763b8475-cba3-42b3-8b61-b2f2603efe6b"
      },
      "execution_count": 32,
      "outputs": [
        {
          "output_type": "stream",
          "name": "stdout",
          "text": [
            "Test Accuracy: 97.33%\n",
            "Confusion Matrix:\n",
            "[[ 96   0   4]\n",
            " [  0 100   0]\n",
            " [  2   2  96]]\n"
          ]
        },
        {
          "output_type": "display_data",
          "data": {
            "text/plain": [
              "<Figure size 800x600 with 2 Axes>"
            ],
            "image/png": "[encoded data removed]"
          },
          "metadata": {}
        }
      ]
    },
    {
      "cell_type": "markdown",
      "source": [
        "# 1 c VIT with MAE and InfoNCE"
      ],
      "metadata": {
        "id": "Rn0oEQvcQkdA"
      }
    },
    {
      "cell_type": "code",
      "source": [
        "class VisionTransformerMAEInfoNCE(nn.Module):\n",
        "    def __init__(self, img_size=28, patch_size=7, embed_dim=128, depth=2, num_heads=8, mlp_dim=256, dropout=0.1):\n",
        "        super(VisionTransformerMAEInfoNCE, self).__init__()\n",
        "        self.patch_embedding = PatchEmbedding_conv(img_size, patch_size, in_channels=1, embed_dim=embed_dim)\n",
        "        num_patches = (img_size // patch_size) ** 2  # Should be 16 for 28x28 images with 7x7 patches\n",
        "\n",
        "        # Initialize CLS token and positional embeddings\n",
        "        self.cls_token = nn.Parameter(torch.randn(1, 1, embed_dim))\n",
        "        self.pos_embedding = nn.Parameter(torch.randn(1, num_patches + 1, embed_dim))  # +1 for CLS token\n",
        "        self.dropout = nn.Dropout(dropout)\n",
        "\n",
        "        # Transformer encoder\n",
        "        self.encoder = nn.ModuleList([\n",
        "            TransformerEncoderBlock(embed_dim, num_heads, mlp_dim, dropout)\n",
        "            for _ in range(depth)\n",
        "        ])\n",
        "\n",
        "        # MAE reconstruction head\n",
        "        self.prediction_head = nn.Linear(embed_dim, embed_dim)\n",
        "\n",
        "    def forward(self, x, mask=None):\n",
        "        # Patch Embedding\n",
        "        x = self.patch_embedding(x)  # Shape: (batch_size, num_patches, embed_dim)\n",
        "\n",
        "        batch_size = x.shape[0]\n",
        "        cls_tokens = self.cls_token.expand(batch_size, -1, -1)  # Shape: (batch_size, 1, embed_dim)\n",
        "\n",
        "        # Append CLS token\n",
        "        x = torch.cat((cls_tokens, x), dim=1)  # Now x has shape (batch_size, num_patches + 1, embed_dim)\n",
        "\n",
        "        # Add positional embeddings\n",
        "        x += self.pos_embedding\n",
        "        x = self.dropout(x)\n",
        "\n",
        "        # Pass through transformer encoder\n",
        "        for encoder_block in self.encoder:\n",
        "            x = encoder_block(x)\n",
        "\n",
        "        # Separate CLS token and patch tokens\n",
        "        cls_token = x[:, 0]  # CLS token\n",
        "        patch_tokens = x[:, 1:]  # Patch tokens\n",
        "\n",
        "        if mask is not None:\n",
        "            # Return predicted patch embeddings for MAE\n",
        "            return cls_token, self.prediction_head(patch_tokens)\n",
        "\n",
        "        # If no mask, just return CLS token and patch tokens\n",
        "        return cls_token, patch_tokens\n"
      ],
      "metadata": {
        "id": "t7aOZg1CkjWU"
      },
      "execution_count": 33,
      "outputs": []
    },
    {
      "cell_type": "markdown",
      "source": [
        "Combined Loss"
      ],
      "metadata": {
        "id": "iYgfMROBoinY"
      }
    },
    {
      "cell_type": "code",
      "source": [
        "def combined_loss(cls_token, patches, predictions, targets, mask, labels, mae_weight=0.8, info_nce_weight=0.2):\n",
        "    # Compute MAE loss (only on masked patches)\n",
        "    mae_loss = compute_mae_loss(predictions, targets, mask)\n",
        "\n",
        "    # Compute InfoNCE loss (on CLS token)\n",
        "    info_nce_loss_value = info_nce_loss(cls_token, labels)\n",
        "\n",
        "    # Combine the two losses with specified weights\n",
        "    return mae_weight * mae_loss + info_nce_weight * info_nce_loss_value\n",
        "\n"
      ],
      "metadata": {
        "id": "zgQEkaf_Q1Ue"
      },
      "execution_count": 34,
      "outputs": []
    },
    {
      "cell_type": "markdown",
      "source": [
        "Initilizing Model , parameters and optimizer"
      ],
      "metadata": {
        "id": "qY-NjeiNoqqW"
      }
    },
    {
      "cell_type": "code",
      "source": [
        "device = torch.device('cuda' if torch.cuda.is_available() else 'cpu')\n",
        "\n",
        "# Model parameters\n",
        "img_size = 28\n",
        "patch_size = 7\n",
        "embed_dim = 128\n",
        "depth = 2\n",
        "num_heads = 8\n",
        "mlp_dim = 256\n",
        "learning_rate = 0.001\n",
        "\n",
        "# Initialize the model\n",
        "MAEInfoNCE_model = VisionTransformerMAEInfoNCE(\n",
        "    img_size=img_size,\n",
        "    patch_size=patch_size,\n",
        "    embed_dim=embed_dim,\n",
        "    depth=depth,\n",
        "    num_heads=num_heads,\n",
        "    mlp_dim=mlp_dim,\n",
        "    dropout=0.1\n",
        ").to(device)\n",
        "\n",
        "# Optimizer\n",
        "optimizer = optim.Adam(MAEInfoNCE_model.parameters(), lr=learning_rate)"
      ],
      "metadata": {
        "id": "cA9OcsPZopKs"
      },
      "execution_count": 35,
      "outputs": []
    },
    {
      "cell_type": "markdown",
      "source": [
        "Training Pipeline"
      ],
      "metadata": {
        "id": "hV8tr4HYw9aw"
      }
    },
    {
      "cell_type": "code",
      "source": [
        "\n",
        "\n",
        "# Training loop\n",
        "num_epochs = 10\n",
        "\n",
        "for epoch in range(num_epochs):\n",
        "    MAEInfoNCE_model.train()\n",
        "    total_loss = 0\n",
        "\n",
        "    for images, labels in train_loader:\n",
        "        images = images.to(device)\n",
        "        labels = labels.to(device)\n",
        "\n",
        "        optimizer.zero_grad()\n",
        "\n",
        "        # Obtain patches and add positional encoding\n",
        "        patches = MAEInfoNCE_model.patch_embedding(images)\n",
        "        patches += MAEInfoNCE_model.pos_embedding[:, 1:]  # Ignore the CLS token for patch embeddings\n",
        "\n",
        "        # Mask tokens for MAE\n",
        "        masked_patches, mask = mask_tokens(patches, mask_ratio=0.5)\n",
        "        masked_patches = masked_patches.to(device)\n",
        "        mask = mask.to(device)\n",
        "\n",
        "        # Forward pass through the model\n",
        "        cls_token, recon_patches = MAEInfoNCE_model(images, mask=mask)\n",
        "\n",
        "        # Compute the combined loss (MAE + InfoNCE)\n",
        "        mae_target = patches  # The original, unmasked patches\n",
        "        loss = combined_loss(cls_token, patches, recon_patches, mae_target, mask, labels)\n",
        "\n",
        "        # Backpropagation and optimization\n",
        "        loss.backward()\n",
        "        optimizer.step()\n",
        "\n",
        "        total_loss += loss.item()\n",
        "\n",
        "    avg_loss = total_loss / len(train_loader)\n",
        "    print(f\"Epoch [{epoch + 1}/{num_epochs}], Loss: {avg_loss:.4f}\")\n"
      ],
      "metadata": {
        "id": "aXZp1oDkQ2QN",
        "colab": {
          "base_uri": "https://localhost:8080/"
        },
        "outputId": "5830dad7-cfc0-4d08-d3e3-ac7979a469b5"
      },
      "execution_count": 36,
      "outputs": [
        {
          "output_type": "stream",
          "name": "stdout",
          "text": [
            "Epoch [1/10], Loss: 1.0473\n",
            "Epoch [2/10], Loss: 0.6121\n",
            "Epoch [3/10], Loss: 0.5699\n",
            "Epoch [4/10], Loss: 0.5566\n",
            "Epoch [5/10], Loss: 0.5290\n",
            "Epoch [6/10], Loss: 0.4693\n",
            "Epoch [7/10], Loss: 0.4342\n",
            "Epoch [8/10], Loss: 0.4111\n",
            "Epoch [9/10], Loss: 0.3975\n",
            "Epoch [10/10], Loss: 0.3706\n"
          ]
        }
      ]
    },
    {
      "cell_type": "markdown",
      "source": [
        "Using Pretrained Network and finetuning it on the same dataset by removing the prediction head."
      ],
      "metadata": {
        "id": "fkhbzOSKoyNM"
      }
    },
    {
      "cell_type": "code",
      "source": [
        "class VisionTransformerClassifier(nn.Module):\n",
        "    def __init__(self, pretrained_model, num_classes=3):\n",
        "        super(VisionTransformerClassifier, self).__init__()\n",
        "        self.encoder = pretrained_model.encoder  # Use the pretrained encoder\n",
        "        self.patch_embedding = pretrained_model.patch_embedding\n",
        "        self.pos_embedding = pretrained_model.pos_embedding\n",
        "        self.cls_token = pretrained_model.cls_token\n",
        "        self.dropout = pretrained_model.dropout\n",
        "\n",
        "        # Classification head\n",
        "        embed_dim = pretrained_model.cls_token.shape[-1]\n",
        "        self.mlp_head = nn.Sequential(\n",
        "            nn.LayerNorm(embed_dim),\n",
        "            nn.Linear(embed_dim, num_classes)\n",
        "        )\n",
        "\n",
        "    def forward(self, x):\n",
        "        # Patch embedding and CLS token\n",
        "        x = self.patch_embedding(x)\n",
        "        batch_size = x.shape[0]\n",
        "\n",
        "        # Use self.cls_token instead of pretrained_model.cls_token\n",
        "        cls_tokens = self.cls_token.expand(batch_size, -1, -1)\n",
        "\n",
        "        # Concatenate CLS token and patch tokens\n",
        "        x = torch.cat((cls_tokens, x), dim=1)\n",
        "\n",
        "        # Add positional embeddings and dropout\n",
        "        x += self.pos_embedding\n",
        "        x = self.dropout(x)\n",
        "\n",
        "        # Pass through transformer encoder\n",
        "        for encoder_block in self.encoder:\n",
        "            x = encoder_block(x)\n",
        "\n",
        "        # CLS token for classification\n",
        "        cls_token = x[:, 0]  # Use CLS token\n",
        "        x = self.mlp_head(cls_token)\n",
        "        return x\n"
      ],
      "metadata": {
        "id": "9Rr_NDVEnABL"
      },
      "execution_count": 37,
      "outputs": []
    },
    {
      "cell_type": "code",
      "source": [
        "# Initialize the finetuning model using the pretrained model\n",
        "finetune_model = VisionTransformerClassifier(pretrained_model=MAEInfoNCE_model, num_classes=3).to(device)\n",
        "\n",
        "# Define optimizer and loss function\n",
        "optimizer = optim.Adam(finetune_model.parameters(), lr=0.001)\n",
        "criterion = nn.CrossEntropyLoss()\n",
        "\n",
        "# Fine-tuning loop\n",
        "num_finetune_epochs = 10\n",
        "\n",
        "for epoch in range(num_finetune_epochs):\n",
        "    finetune_model.train()\n",
        "    total_loss = 0\n",
        "\n",
        "    for images, labels in train_loader:\n",
        "        images = images.to(device)\n",
        "        labels = labels.to(device)\n",
        "\n",
        "        optimizer.zero_grad()\n",
        "\n",
        "        # Forward pass\n",
        "        outputs = finetune_model(images)\n",
        "\n",
        "        # Compute loss\n",
        "        loss = criterion(outputs, labels)\n",
        "\n",
        "        # Backpropagation\n",
        "        loss.backward()\n",
        "        optimizer.step()\n",
        "\n",
        "        total_loss += loss.item()\n",
        "\n",
        "    avg_loss = total_loss / len(train_loader)\n",
        "    print(f\"Epoch [{epoch + 1}/{num_finetune_epochs}], Loss: {avg_loss:.4f}\")\n"
      ],
      "metadata": {
        "colab": {
          "base_uri": "https://localhost:8080/"
        },
        "id": "pY6qimORllYJ",
        "outputId": "8b6f1aab-0e4b-4912-e14c-3d0d19111bf1"
      },
      "execution_count": 38,
      "outputs": [
        {
          "output_type": "stream",
          "name": "stdout",
          "text": [
            "Epoch [1/10], Loss: 0.2422\n",
            "Epoch [2/10], Loss: 0.1536\n",
            "Epoch [3/10], Loss: 0.0771\n",
            "Epoch [4/10], Loss: 0.0941\n",
            "Epoch [5/10], Loss: 0.0780\n",
            "Epoch [6/10], Loss: 0.0430\n",
            "Epoch [7/10], Loss: 0.0424\n",
            "Epoch [8/10], Loss: 0.0417\n",
            "Epoch [9/10], Loss: 0.0911\n",
            "Epoch [10/10], Loss: 0.0863\n"
          ]
        }
      ]
    },
    {
      "cell_type": "markdown",
      "source": [
        "# 1c Accuracy and Confusion Matrix\n",
        "Test Accuracy and Confusion Matrix"
      ],
      "metadata": {
        "id": "iB1XXPRUpMtv"
      }
    },
    {
      "cell_type": "code",
      "source": [
        "# Evaluation on test data\n",
        "finetune_model.eval()\n",
        "all_preds = []\n",
        "all_labels = []\n",
        "\n",
        "with torch.no_grad():\n",
        "    for images, labels in test_loader:\n",
        "        images = images.to(device)\n",
        "        labels = labels.to(device)\n",
        "\n",
        "        outputs = finetune_model(images)\n",
        "        _, preds = torch.max(outputs, 1)\n",
        "\n",
        "        all_preds.extend(preds.cpu().numpy())\n",
        "        all_labels.extend(labels.cpu().numpy())\n",
        "\n",
        "# Compute accuracy\n",
        "accuracy = accuracy_score(all_labels, all_preds)\n",
        "print(f\"Test Accuracy: {accuracy * 100:.2f}%\")\n",
        "\n",
        "# Compute confusion matrix\n",
        "conf_matrix = confusion_matrix(all_labels, all_preds)\n",
        "print(\"Confusion Matrix:\")\n",
        "print(conf_matrix)\n",
        "\n",
        "# Plot the confusion matrix\n",
        "plt.figure(figsize=(8, 6))\n",
        "sns.heatmap(conf_matrix, annot=True, fmt=\"d\", cmap=\"Blues\",\n",
        "            xticklabels=selected_classes, yticklabels=selected_classes)\n",
        "plt.xlabel(\"Predicted\")\n",
        "plt.ylabel(\"True\")\n",
        "plt.title(\"Confusion Matrix\")\n",
        "plt.show()"
      ],
      "metadata": {
        "colab": {
          "base_uri": "https://localhost:8080/",
          "height": 651
        },
        "id": "sCyFTjLXlmhM",
        "outputId": "f181c9bb-859a-4740-80f9-1bfdadd86497"
      },
      "execution_count": 40,
      "outputs": [
        {
          "output_type": "stream",
          "name": "stdout",
          "text": [
            "Test Accuracy: 97.67%\n",
            "Confusion Matrix:\n",
            "[[99  0  1]\n",
            " [ 0 99  1]\n",
            " [ 5  0 95]]\n"
          ]
        },
        {
          "output_type": "display_data",
          "data": {
            "text/plain": [
              "<Figure size 800x600 with 2 Axes>"
            ],
            "image/png": "[encoded data removed]"
          },
          "metadata": {}
        }
      ]
    },
    {
      "cell_type": "code",
      "source": [],
      "metadata": {
        "id": "fdpBhXj3n8K8"
      },
      "execution_count": null,
      "outputs": []
    },
    {
      "cell_type": "markdown",
      "source": [
        "# 1d\n"
      ],
      "metadata": {
        "id": "mhvxutFY-d4A"
      }
    },
    {
      "cell_type": "code",
      "source": [
        "\n",
        "\n",
        "class VideoPatchEmbedding(nn.Module):\n",
        "    def __init__(self, img_size=28, patch_size=7, in_channels=1, embed_dim=128):\n",
        "        super(VideoPatchEmbedding, self).__init__()\n",
        "        self.patch_size = patch_size\n",
        "        self.embed_dim = embed_dim\n",
        "        self.proj = nn.Conv2d(in_channels, embed_dim, kernel_size=patch_size, stride=patch_size)\n",
        "\n",
        "    def forward(self, frames):\n",
        "        # frames: (batch_size, num_frames, in_channels, height, width)\n",
        "        batch_size, num_frames, in_channels, height, width = frames.shape\n",
        "\n",
        "        # Apply Conv2d to each frame independently and reshape the patches\n",
        "        patches = []\n",
        "        for t in range(num_frames):\n",
        "            patch_embeddings = self.proj(frames[:, t])  # Shape: (batch_size, embed_dim, num_patches_h, num_patches_w)\n",
        "            patches.append(rearrange(patch_embeddings, 'b e h w -> b (h w) e'))  # Shape: (batch_size, num_patches, embed_dim)\n",
        "\n",
        "        # Concatenate tokens from all frames\n",
        "        patches = torch.cat(patches, dim=1)  # Shape: (batch_size, num_patches * num_frames, embed_dim)\n",
        "        return patches\n"
      ],
      "metadata": {
        "id": "mOzeOiqB-iEm"
      },
      "execution_count": 41,
      "outputs": []
    },
    {
      "cell_type": "code",
      "source": [
        "class PositionalEncoding(nn.Module):\n",
        "    def __init__(self, num_patches, embed_dim, num_frames):\n",
        "        super(PositionalEncoding, self).__init__()\n",
        "        self.pos_embedding = nn.Parameter(torch.randn(1, num_patches * num_frames, embed_dim))\n",
        "\n",
        "    def forward(self, x):\n",
        "        # x: (batch_size, num_patches * num_frames, embed_dim)\n",
        "        return x + self.pos_embedding\n"
      ],
      "metadata": {
        "id": "RJyV0wxrAsxi"
      },
      "execution_count": 42,
      "outputs": []
    },
    {
      "cell_type": "code",
      "source": [
        "import random\n",
        "\n",
        "def shuffle_and_mask(tokens, mask_ratio=0.85):\n",
        "    # tokens: (batch_size, num_tokens, embed_dim)\n",
        "    batch_size, num_tokens, embed_dim = tokens.shape\n",
        "    num_masked = int(num_tokens * mask_ratio)\n",
        "\n",
        "    # Shuffle token indices\n",
        "    shuffled_indices = torch.randperm(num_tokens)\n",
        "\n",
        "    # Separate masked and unmasked tokens\n",
        "    unmasked_indices = shuffled_indices[:num_tokens - num_masked]\n",
        "    masked_indices = shuffled_indices[num_tokens - num_masked:]\n",
        "\n",
        "    unmasked_tokens = tokens[:, unmasked_indices]\n",
        "\n",
        "    # Masked tokens will be appended later during decoding\n",
        "    return unmasked_tokens, masked_indices, unmasked_indices\n"
      ],
      "metadata": {
        "id": "_3WOXe6wAvKC"
      },
      "execution_count": 43,
      "outputs": []
    },
    {
      "cell_type": "code",
      "source": [
        "class VisionTransformerEncoder(nn.Module):\n",
        "    def __init__(self, embed_dim, depth=2, num_heads=8, mlp_dim=256, dropout=0.1):\n",
        "        super(VisionTransformerEncoder, self).__init__()\n",
        "        self.encoder = nn.ModuleList([\n",
        "            TransformerEncoderBlock(embed_dim, num_heads, mlp_dim, dropout)\n",
        "            for _ in range(depth)\n",
        "        ])\n",
        "\n",
        "    def forward(self, x):\n",
        "        for encoder_block in self.encoder:\n",
        "            x = encoder_block(x)\n",
        "        return x\n"
      ],
      "metadata": {
        "id": "xx0mKPi1A2Ee"
      },
      "execution_count": 44,
      "outputs": []
    },
    {
      "cell_type": "code",
      "source": [
        "class VideoMAEDecoder(nn.Module):\n",
        "    def __init__(self, embed_dim):\n",
        "        super(VideoMAEDecoder, self).__init__()\n",
        "        self.decoder = nn.Linear(embed_dim, embed_dim)\n",
        "\n",
        "    def forward(self, encoded_tokens, masked_indices, unmasked_indices, batch_size, num_tokens):\n",
        "        # Create a placeholder for all tokens\n",
        "        all_tokens = torch.zeros(batch_size, num_tokens, encoded_tokens.shape[-1]).to(encoded_tokens.device)\n",
        "\n",
        "        # Fill the unmasked tokens in their original positions\n",
        "        all_tokens[:, unmasked_indices] = encoded_tokens\n",
        "\n",
        "        # Decode the masked tokens\n",
        "        all_tokens = self.decoder(all_tokens)\n",
        "        return all_tokens\n"
      ],
      "metadata": {
        "id": "t6U0hyI5A-vj"
      },
      "execution_count": 45,
      "outputs": []
    },
    {
      "cell_type": "code",
      "source": [
        "def video_mae_loss(reconstructed_tokens, original_tokens):\n",
        "    # L1 loss between reconstructed tokens and original tokens\n",
        "    loss_fn = nn.L1Loss()\n",
        "    return loss_fn(reconstructed_tokens, original_tokens)\n"
      ],
      "metadata": {
        "id": "rfdkpNarBA7U"
      },
      "execution_count": 46,
      "outputs": []
    },
    {
      "cell_type": "code",
      "source": [
        "# Initialize the models\n",
        "embed_dim = 128\n",
        "num_patches = 4 * 4  # Assuming each frame is divided into 4x4 patches\n",
        "num_frames = 3\n",
        "\n",
        "patch_embedding = VideoPatchEmbedding(img_size=28, patch_size=7, embed_dim=embed_dim).to(device)\n",
        "positional_encoding = PositionalEncoding(num_patches, embed_dim, num_frames).to(device)\n",
        "encoder = VisionTransformerEncoder(embed_dim).to(device)\n",
        "decoder = VideoMAEDecoder(embed_dim).to(device)\n",
        "\n",
        "optimizer = torch.optim.Adam(list(patch_embedding.parameters()) +\n",
        "                             list(positional_encoding.parameters()) +\n",
        "                             list(encoder.parameters()) +\n",
        "                             list(decoder.parameters()), lr=0.001)\n",
        "\n",
        "num_epochs = 10\n",
        "\n",
        "for epoch in range(num_epochs):\n",
        "    patch_embedding.train()\n",
        "    total_loss = 0\n",
        "\n",
        "    for video_frames, _ in train_loader:\n",
        "        video_frames = video_frames.to(device)\n",
        "        # Assuming `video_frames` is a 4D tensor (batch_size, in_channels, height, width)\n",
        "\n",
        "        # Simulating video frames by repeating the same frame 3 times (for example)\n",
        "        num_frames = 3\n",
        "        video_frames = video_frames.unsqueeze(1).repeat(1, num_frames, 1, 1, 1)  # Shape: (batch_size, num_frames, in_channels, height, width)\n",
        "\n",
        "\n",
        "        optimizer.zero_grad()\n",
        "\n",
        "        # Step 1: Obtain tokens from video frames\n",
        "        tokens = patch_embedding(video_frames)\n",
        "\n",
        "        # Step 2: Add positional encoding\n",
        "        tokens = positional_encoding(tokens)\n",
        "\n",
        "        # Step 3: Shuffle and mask tokens\n",
        "        unmasked_tokens, masked_indices, unmasked_indices = shuffle_and_mask(tokens, mask_ratio=0.85)\n",
        "\n",
        "        # Step 4: Feed unmasked tokens into the encoder\n",
        "        encoded_tokens = encoder(unmasked_tokens)\n",
        "\n",
        "        # Step 5: Inverse shuffle and append masked tokens, then decode\n",
        "        reconstructed_tokens = decoder(encoded_tokens, masked_indices, unmasked_indices, video_frames.size(0), tokens.size(1))\n",
        "\n",
        "        # Step 6: Compute L1 loss for MAE\n",
        "        loss = video_mae_loss(reconstructed_tokens, tokens)\n",
        "\n",
        "        # Backpropagation\n",
        "        loss.backward()\n",
        "        optimizer.step()\n",
        "\n",
        "        total_loss += loss.item()\n",
        "\n",
        "    avg_loss = total_loss / len(train_loader)\n",
        "    print(f\"Epoch [{epoch + 1}/{num_epochs}], Loss: {avg_loss:.4f}\")\n"
      ],
      "metadata": {
        "colab": {
          "base_uri": "https://localhost:8080/"
        },
        "id": "UY8ymVGZBElF",
        "outputId": "098b4d02-4b33-4c29-ec1d-ef04e3c3e468"
      },
      "execution_count": 48,
      "outputs": [
        {
          "output_type": "stream",
          "name": "stdout",
          "text": [
            "Epoch [1/10], Loss: 0.8400\n",
            "Epoch [2/10], Loss: 0.7333\n",
            "Epoch [3/10], Loss: 0.6843\n",
            "Epoch [4/10], Loss: 0.6514\n",
            "Epoch [5/10], Loss: 0.6247\n",
            "Epoch [6/10], Loss: 0.6034\n",
            "Epoch [7/10], Loss: 0.5815\n",
            "Epoch [8/10], Loss: 0.5637\n",
            "Epoch [9/10], Loss: 0.5456\n",
            "Epoch [10/10], Loss: 0.5281\n"
          ]
        }
      ]
    },
    {
      "cell_type": "markdown",
      "source": [
        "Finetunning"
      ],
      "metadata": {
        "id": "oC3oOObKFLQ1"
      }
    },
    {
      "cell_type": "code",
      "source": [
        "class VideoMAEClassifier(nn.Module):\n",
        "    def __init__(self, patch_embedding, positional_encoding, encoder, num_classes=3):\n",
        "        super(VideoMAEClassifier, self).__init__()\n",
        "\n",
        "        # Use the pretrained patch embedding, positional encoding, and encoder\n",
        "        self.patch_embedding = patch_embedding\n",
        "        self.positional_encoding = positional_encoding\n",
        "        self.encoder = encoder\n",
        "\n",
        "        # Classification head (after mean pooling the tokens)\n",
        "        embed_dim = patch_embedding.proj.out_channels  # Same as the output of the patch embedding\n",
        "        self.mlp_head = nn.Sequential(\n",
        "            nn.LayerNorm(embed_dim),\n",
        "            nn.Linear(embed_dim, num_classes)  # Output: number of classes\n",
        "        )\n",
        "\n",
        "    def forward(self, frames):\n",
        "        # Tokenize the input video frames\n",
        "        tokens = self.patch_embedding(frames)\n",
        "\n",
        "        # Add positional encoding\n",
        "        tokens = self.positional_encoding(tokens)\n",
        "\n",
        "        # Feed to the encoder (no masking during fine-tuning)\n",
        "        encoded_tokens = self.encoder(tokens)\n",
        "\n",
        "        # Mean Pooling the encoded tokens (get the global representation of the video)\n",
        "        global_rep = encoded_tokens.mean(dim=1)  # Shape: (batch_size, embed_dim)\n",
        "\n",
        "        # Feed the global representation to the classification head\n",
        "        logits = self.mlp_head(global_rep)\n",
        "        return logits\n"
      ],
      "metadata": {
        "id": "XbXAS1KNL9oj"
      },
      "execution_count": 51,
      "outputs": []
    },
    {
      "cell_type": "code",
      "source": [
        "# Reuse the components from the pretraining step\n",
        "patch_embedding = patch_embedding  # Reuse the patch embedding from pretraining\n",
        "positional_encoding = positional_encoding  # Reuse the positional encoding from pretraining\n",
        "encoder = encoder  # Reuse the pretrained encoder from pretraining\n",
        "\n",
        "# Initialize the fine-tuning model with the pretrained components\n",
        "num_classes = 3  # Adjust this to match your number of classes\n",
        "finetune_model = VideoMAEClassifier(patch_embedding, positional_encoding, encoder, num_classes=num_classes).to(device)\n",
        "\n",
        "# Define loss and optimizer\n",
        "criterion = nn.CrossEntropyLoss()\n",
        "optimizer = torch.optim.Adam(finetune_model.parameters(), lr=0.001)  # Train all parameters\n",
        "\n",
        "# Fine-tuning loop\n",
        "num_finetune_epochs = 10\n",
        "\n",
        "for epoch in range(num_finetune_epochs):\n",
        "    finetune_model.train()  # Set the model to training mode\n",
        "    total_loss = 0\n",
        "\n",
        "    for video_frames, labels in train_loader:\n",
        "        video_frames = video_frames.to(device)\n",
        "        num_frames = 3\n",
        "        video_frames = video_frames.unsqueeze(1).repeat(1, num_frames, 1, 1, 1)\n",
        "\n",
        "        labels = labels.to(device)\n",
        "\n",
        "        optimizer.zero_grad()\n",
        "\n",
        "        # Forward pass\n",
        "        outputs = finetune_model(video_frames)\n",
        "\n",
        "        # Compute loss\n",
        "        loss = criterion(outputs, labels)\n",
        "\n",
        "        # Backpropagation\n",
        "        loss.backward()\n",
        "        optimizer.step()\n",
        "\n",
        "        total_loss += loss.item()\n",
        "\n",
        "    avg_loss = total_loss / len(train_loader)\n",
        "    print(f\"Epoch [{epoch + 1}/{num_finetune_epochs}], Loss: {avg_loss:.4f}\")\n"
      ],
      "metadata": {
        "colab": {
          "base_uri": "https://localhost:8080/"
        },
        "id": "tq0FvZFIFQk5",
        "outputId": "c0fbd0b7-f50d-4388-e65a-db662cee765a"
      },
      "execution_count": 54,
      "outputs": [
        {
          "output_type": "stream",
          "name": "stdout",
          "text": [
            "Epoch [1/10], Loss: 1.3793\n",
            "Epoch [2/10], Loss: 1.0230\n",
            "Epoch [3/10], Loss: 0.7025\n",
            "Epoch [4/10], Loss: 0.4331\n",
            "Epoch [5/10], Loss: 0.2370\n",
            "Epoch [6/10], Loss: 0.1990\n",
            "Epoch [7/10], Loss: 0.1607\n",
            "Epoch [8/10], Loss: 0.0793\n",
            "Epoch [9/10], Loss: 0.0521\n",
            "Epoch [10/10], Loss: 0.0530\n"
          ]
        }
      ]
    },
    {
      "cell_type": "code",
      "source": [
        "# Testing and accuracy calculation\n",
        "finetune_model.eval()  # Set the model to evaluation mode\n",
        "all_preds = []\n",
        "all_labels = []\n",
        "\n",
        "with torch.no_grad():  # Disable gradient calculation for testing\n",
        "    for video_frames, labels in test_loader:\n",
        "        video_frames = video_frames.to(device)\n",
        "        num_frames = 3\n",
        "        video_frames = video_frames.unsqueeze(1).repeat(1, num_frames, 1, 1, 1)\n",
        "        labels = labels.to(device)\n",
        "\n",
        "        # Forward pass\n",
        "        outputs = finetune_model(video_frames)\n",
        "\n",
        "        # Get predictions\n",
        "        _, preds = torch.max(outputs, 1)\n",
        "\n",
        "        # Collect predictions and labels\n",
        "        all_preds.extend(preds.cpu().numpy())\n",
        "        all_labels.extend(labels.cpu().numpy())\n",
        "\n",
        "# Compute test accuracy\n",
        "test_accuracy = accuracy_score(all_labels, all_preds)\n",
        "print(f\"Test Accuracy: {test_accuracy * 100:.2f}%\")\n",
        "\n",
        "# Compute confusion matrix\n",
        "conf_matrix = confusion_matrix(all_labels, all_preds)\n",
        "print(\"Confusion Matrix:\")\n",
        "print(conf_matrix)\n",
        "\n",
        "# Plot confusion matrix\n",
        "plt.figure(figsize=(8, 6))\n",
        "sns.heatmap(conf_matrix, annot=True, fmt=\"d\", cmap=\"Blues\")\n",
        "plt.xlabel(\"Predicted\")\n",
        "plt.ylabel(\"True\")\n",
        "plt.title(\"Confusion Matrix\")\n",
        "plt.show()\n"
      ],
      "metadata": {
        "colab": {
          "base_uri": "https://localhost:8080/",
          "height": 651
        },
        "id": "oZgZ4gMPHN0G",
        "outputId": "9f78d32d-ebe0-42c4-bf48-319bef0a6b85"
      },
      "execution_count": 56,
      "outputs": [
        {
          "output_type": "stream",
          "name": "stdout",
          "text": [
            "Test Accuracy: 96.33%\n",
            "Confusion Matrix:\n",
            "[[100   0   0]\n",
            " [  1  96   3]\n",
            " [  7   0  93]]\n"
          ]
        },
        {
          "output_type": "display_data",
          "data": {
            "text/plain": [
              "<Figure size 800x600 with 2 Axes>"
            ],
            "image/png": "[encoded data removed]"
          },
          "metadata": {}
        }
      ]
    },
    {
      "cell_type": "code",
      "source": [],
      "metadata": {
        "id": "cdhFxIyyMcm0"
      },
      "execution_count": null,
      "outputs": []
    }
  ]
}