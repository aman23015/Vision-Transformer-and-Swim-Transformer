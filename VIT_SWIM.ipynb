{
  "nbformat": 4,
  "nbformat_minor": 0,
  "metadata": {
    "colab": {
      "provenance": []
    },
    "kernelspec": {
      "name": "python3",
      "display_name": "Python 3"
    },
    "language_info": {
      "name": "python"
    }
  },
  "cells": [
    {
      "cell_type": "code",
      "execution_count": null,
      "metadata": {
        "id": "m3ZZsJHpbBRA"
      },
      "outputs": [],
      "source": [
        "import torch\n",
        "import torchvision\n",
        "import itertools\n",
        "import numpy as np\n",
        "from IPython.display import clear_output\n",
        "import torch.nn as nn\n",
        "import seaborn as sns\n",
        "from einops import rearrange\n",
        "from tqdm import tqdm\n",
        "from random import Random\n",
        "import torch.optim as optim\n",
        "import matplotlib.pyplot as plt\n",
        "import torch.nn.functional as F\n",
        "import torchvision.transforms as transforms\n",
        "from torchvision.transforms import Resize, ToTensor\n",
        "from torch.utils.data import DataLoader, TensorDataset\n",
        "from torchvision.transforms.functional import to_pil_image\n",
        "from sklearn.metrics import confusion_matrix, classification_report"
      ]
    },
    {
      "cell_type": "markdown",
      "source": [
        "Load the MNIST dataset"
      ],
      "metadata": {
        "id": "yCmLS06_d3la"
      }
    },
    {
      "cell_type": "markdown",
      "source": [
        "Normalizing the image\n"
      ],
      "metadata": {
        "id": "xs2qV9753jcE"
      }
    },
    {
      "cell_type": "code",
      "source": [
        "transform = transforms.Compose([\n",
        "    transforms.ToTensor(),\n",
        "    transforms.Normalize(mean=[0.5], std=[0.5])\n",
        "])"
      ],
      "metadata": {
        "id": "bzt_iKp93XMB"
      },
      "execution_count": null,
      "outputs": []
    },
    {
      "cell_type": "code",
      "source": [
        "device = torch.device('cuda' if torch.cuda.is_available() else 'cpu')"
      ],
      "metadata": {
        "id": "Om0XiKluhw60"
      },
      "execution_count": null,
      "outputs": []
    },
    {
      "cell_type": "code",
      "source": [
        "# transform = transforms.Compose([transforms.ToTensor()])\n",
        "\n",
        "Actual_train_dataset = torchvision.datasets.MNIST(root='./data',train=True,download = True,transform = transform)\n",
        "Actual_test_dataset = torchvision.datasets.MNIST(root='./data',train = False,download = True,transform = transform)"
      ],
      "metadata": {
        "collapsed": true,
        "id": "MaawgMS-dwdU"
      },
      "execution_count": null,
      "outputs": []
    },
    {
      "cell_type": "code",
      "source": [
        "print(len(Actual_train_dataset))\n",
        "print(len(Actual_test_dataset))"
      ],
      "metadata": {
        "colab": {
          "base_uri": "https://localhost:8080/"
        },
        "id": "m43AfvcArDUB",
        "outputId": "3dcab7e4-517c-4d59-8ad0-accbcac63fb5"
      },
      "execution_count": null,
      "outputs": [
        {
          "output_type": "stream",
          "name": "stdout",
          "text": [
            "60000\n",
            "10000\n"
          ]
        }
      ]
    },
    {
      "cell_type": "markdown",
      "source": [
        "Define classes you want to sample"
      ],
      "metadata": {
        "id": "JctCkAZFe5iu"
      }
    },
    {
      "cell_type": "code",
      "source": [
        "classes_to_sample = [0,1,2]"
      ],
      "metadata": {
        "id": "szQLxloterM9"
      },
      "execution_count": null,
      "outputs": []
    },
    {
      "cell_type": "markdown",
      "source": [
        "sample 100 images from each class in the training set for the VIT"
      ],
      "metadata": {
        "id": "8hvjOSpmfO8A"
      }
    },
    {
      "cell_type": "code",
      "source": [
        "train_samples = []\n",
        "previous_train_indices = []\n",
        "for cls in classes_to_sample:\n",
        "  class_indices = [i for i,label in enumerate(Actual_train_dataset.targets) if label == cls]\n",
        "  sampled_indices = np.random.choice(class_indices,100,replace = False)\n",
        "  previous_train_indices.append(sampled_indices)\n",
        "  # print(sampled_indices)\n",
        "  sampled_images = torch.stack([Actual_train_dataset[i][0] for i in sampled_indices])\n",
        "  train_samples.append(sampled_images)\n",
        "\n",
        "train_samples = torch.cat(train_samples,dim=0)\n",
        "# print(previous_train_indices)"
      ],
      "metadata": {
        "id": "rKwJEnFCfNBW"
      },
      "execution_count": null,
      "outputs": []
    },
    {
      "cell_type": "markdown",
      "source": [
        "sample 100 images from each class in the test set for the VIT\n"
      ],
      "metadata": {
        "id": "cLLQQhbckc1V"
      }
    },
    {
      "cell_type": "code",
      "source": [
        "test_samples=[]\n",
        "previous_test_indices=[]\n",
        "for cls in classes_to_sample:\n",
        "  class_indices = [i for i,label in enumerate(Actual_test_dataset.targets) if label == cls]\n",
        "  sampled_indices = np.random.choice(class_indices,100, replace = False)\n",
        "  previous_test_indices.append(sampled_indices)\n",
        "  sampled_images = torch.stack([Actual_test_dataset[i][0] for i in sampled_indices])\n",
        "  test_samples.append(sampled_images)\n",
        "\n",
        "# print(test_samples[0][0])\n",
        "test_samples = torch.cat(test_samples,dim=0)\n",
        "# print(len(test_samples))\n",
        "# print(previous_test_indices)"
      ],
      "metadata": {
        "id": "2Wqgkt8JgpFt"
      },
      "execution_count": null,
      "outputs": []
    },
    {
      "cell_type": "markdown",
      "source": [
        "Convert the datasets to pytorch TensorDatasets\n"
      ],
      "metadata": {
        "id": "8h8optPVuWBb"
      }
    },
    {
      "cell_type": "code",
      "source": [
        "train_labels = torch.cat([torch.full((100,),i) for i in [0,1,2]])\n",
        "test_labels = torch.cat([torch.full((100,),i) for i in [0,1,2]])\n",
        "\n",
        "VIT_train_dataset = TensorDataset(train_samples,train_labels)\n",
        "VIT_test_dataset = TensorDataset(test_samples,test_labels)"
      ],
      "metadata": {
        "id": "yKuBYOlRgzWb"
      },
      "execution_count": null,
      "outputs": []
    },
    {
      "cell_type": "code",
      "source": [],
      "metadata": {
        "id": "LPKf9SkBnZAg"
      },
      "execution_count": null,
      "outputs": []
    },
    {
      "cell_type": "markdown",
      "source": [
        "TO see the images\n"
      ],
      "metadata": {
        "id": "LciZfWZpzvpJ"
      }
    },
    {
      "cell_type": "code",
      "source": [
        "print(len(VIT_train_dataset))\n",
        "print(len(VIT_test_dataset))"
      ],
      "metadata": {
        "colab": {
          "base_uri": "https://localhost:8080/"
        },
        "id": "EuNc5BHbz24N",
        "outputId": "4995bb3c-a377-48fb-d59a-d920450db74b"
      },
      "execution_count": null,
      "outputs": [
        {
          "output_type": "stream",
          "name": "stdout",
          "text": [
            "300\n",
            "300\n"
          ]
        }
      ]
    },
    {
      "cell_type": "code",
      "source": [
        "# def show_mnist_images(dataset,num_images=10):\n",
        "#   plt.figure(figsize=(10,2))\n",
        "#   for i in range(num_images):\n",
        "#     image,label = dataset[i]\n",
        "#     image = image.squeeze()\n",
        "#     plt.subplot(1,num_images,i+1)\n",
        "#     plt.imshow(image,cmap='gray')\n",
        "#     plt.title(f'Label: {label}')\n",
        "#     plt.axis('off')\n",
        "#   plt.show()\n",
        "\n",
        "# show_mnist_images(VIT_train_dataset,num_images=10)"
      ],
      "metadata": {
        "id": "LxxRdeZTs9Cw"
      },
      "execution_count": null,
      "outputs": []
    },
    {
      "cell_type": "markdown",
      "source": [
        "DataLoader\n"
      ],
      "metadata": {
        "id": "KMsrEdnGnp9W"
      }
    },
    {
      "cell_type": "code",
      "source": [
        "train_loader = DataLoader(VIT_train_dataset,batch_size=12,shuffle=True)\n",
        "test_loader = DataLoader(VIT_test_dataset,batch_size=12,shuffle=False)"
      ],
      "metadata": {
        "id": "pdOqcuTynmK9"
      },
      "execution_count": null,
      "outputs": []
    },
    {
      "cell_type": "code",
      "source": [
        "def visualize_patches(img,patch_size):\n",
        "  _,ax = plt.subplots(1,1,figsize=(2,2))\n",
        "  img = img.squeeze(0)\n",
        "  ax.imshow(img,cmap='gray')\n",
        "  ax.set_xticks(range(0,img.shape[0],patch_size))\n",
        "  ax.set_yticks(range(0,img.shape[1],patch_size))\n",
        "  ax.grid(color='white',linestyle='-',linewidth=2)\n",
        "  plt.show()\n",
        "\n",
        "n_to_viuslize =0\n",
        "patch_size=7\n",
        "for image,_ in train_loader:\n",
        "  visualize_patches(image[0],patch_size)\n",
        "  n_to_viuslize+=1\n",
        "  if(n_to_viuslize==2):\n",
        "    break"
      ],
      "metadata": {
        "id": "PfjLV-ZunVNg",
        "colab": {
          "base_uri": "https://localhost:8080/",
          "height": 417
        },
        "outputId": "5328fa1a-16fd-4eae-9199-9c5e9446ec05"
      },
      "execution_count": null,
      "outputs": [
        {
          "output_type": "display_data",
          "data": {
            "text/plain": [
              "<Figure size 200x200 with 1 Axes>"
            ],
            "image/png": "[encoded data removed]"
          },
          "metadata": {}
        },
        {
          "output_type": "display_data",
          "data": {
            "text/plain": [
              "<Figure size 200x200 with 1 Axes>"
            ],
            "image/png": "[encoded data removed]"
          },
          "metadata": {}
        }
      ]
    },
    {
      "cell_type": "code",
      "source": [],
      "metadata": {
        "id": "Pn03u9esneDo"
      },
      "execution_count": null,
      "outputs": []
    },
    {
      "cell_type": "markdown",
      "source": [
        "#Hyperparameters\n"
      ],
      "metadata": {
        "id": "uhHZBEixpMyM"
      }
    },
    {
      "cell_type": "code",
      "source": [
        "img_size = 28\n",
        "patch_size = 7\n",
        "num_classes = 3\n",
        "batch_size = 64"
      ],
      "metadata": {
        "id": "1JiV9Ywqg3Ow"
      },
      "execution_count": null,
      "outputs": []
    },
    {
      "cell_type": "markdown",
      "source": [
        "Vision Transformer\n"
      ],
      "metadata": {
        "id": "qqHrM_Wgxyoq"
      }
    },
    {
      "cell_type": "code",
      "source": [
        "class PatchEmbedding_conv(nn.Module):\n",
        "  def __init__(self,img_size,patch_size,in_channels=1,embed_dim=128):\n",
        "    super(PatchEmbedding_conv,self).__init__()\n",
        "    self.patch_size = patch_size\n",
        "    self.proj = nn.Conv2d(in_channels,embed_dim,kernel_size=patch_size,stride=patch_size)\n",
        "\n",
        "  def forward(self,x):\n",
        "    x = self.proj(x)\n",
        "    x=rearrange(x,'b e h w -> b (h w) e')\n",
        "    return x\n",
        "\n",
        "patch_embedding = PatchEmbedding_conv(img_size,patch_size)\n",
        "sample_image = next(iter(train_loader))[0][0].unsqueeze(0)\n",
        "patches = patch_embedding(sample_image)\n",
        "print(patches.shape)\n"
      ],
      "metadata": {
        "colab": {
          "base_uri": "https://localhost:8080/"
        },
        "id": "oeIT2fPSnw4T",
        "outputId": "b270dc97-f546-4df3-8cee-736ea732552c"
      },
      "execution_count": null,
      "outputs": [
        {
          "output_type": "stream",
          "name": "stdout",
          "text": [
            "torch.Size([1, 16, 128])\n"
          ]
        }
      ]
    },
    {
      "cell_type": "code",
      "source": [
        "class MultiHeadSelfAttention(nn.Module):\n",
        "    def __init__(self, embed_dim, num_heads):\n",
        "        super(MultiHeadSelfAttention, self).__init__()\n",
        "        assert embed_dim % num_heads == 0, \"Embedding dimension must be divisible by the number of heads.\"\n",
        "        self.num_heads = num_heads\n",
        "        self.head_dim = embed_dim // num_heads\n",
        "\n",
        "        self.query = nn.Linear(embed_dim, embed_dim)\n",
        "        self.key = nn.Linear(embed_dim, embed_dim)\n",
        "        self.value = nn.Linear(embed_dim, embed_dim)\n",
        "        self.out = nn.Linear(embed_dim, embed_dim)\n",
        "\n",
        "    def forward(self, x):\n",
        "        # print(x.shape)\n",
        "        B, N, C = x.shape\n",
        "        q = self.query(x).view(B, N, self.num_heads, self.head_dim)\n",
        "        k = self.key(x).view(B, N, self.num_heads, self.head_dim)\n",
        "        v = self.value(x).view(B, N, self.num_heads, self.head_dim)\n",
        "\n",
        "        q, k, v = map(lambda t: rearrange(t, 'b n h d -> b h n d'), (q, k, v))\n",
        "\n",
        "        attn = (q @ k.transpose(-2, -1)) * (self.head_dim ** -0.5)\n",
        "\n",
        "        attn = attn.softmax(dim=-1)\n",
        "        # print(attn.shape)\n",
        "        out = (attn @ v).transpose(1, 2).reshape(B, N, C)\n",
        "        out = self.out(out)\n",
        "        return out,attn\n",
        "\n",
        "# Test Multi-Head Self-Attention\n",
        "mhsa = MultiHeadSelfAttention(embed_dim=128, num_heads=8)\n",
        "attn_output,attn = mhsa(patches)\n",
        "# print(attn.shape)\n",
        "print(attn_output.shape)  # Expected shape: (1, num_patches, embed_dim)\n"
      ],
      "metadata": {
        "colab": {
          "base_uri": "https://localhost:8080/"
        },
        "id": "QjFIr0bhpgJW",
        "outputId": "15739407-78a7-4ff3-ed56-7894bc9c0d3f"
      },
      "execution_count": null,
      "outputs": [
        {
          "output_type": "stream",
          "name": "stdout",
          "text": [
            "torch.Size([1, 16, 128])\n"
          ]
        }
      ]
    },
    {
      "cell_type": "code",
      "source": [
        "class TransformerEncoderBlock(nn.Module):\n",
        "    def __init__(self, embed_dim, num_heads, mlp_dim, dropout=0):\n",
        "        super(TransformerEncoderBlock, self).__init__()\n",
        "        self.norm1 = nn.LayerNorm(embed_dim)\n",
        "        self.mhsa = MultiHeadSelfAttention(embed_dim, num_heads)\n",
        "        self.dropout1 = nn.Dropout(dropout)\n",
        "\n",
        "        self.norm2 = nn.LayerNorm(embed_dim)\n",
        "        self.mlp = nn.Sequential(\n",
        "            nn.Linear(embed_dim, mlp_dim),\n",
        "            nn.GELU(),\n",
        "            nn.Linear(mlp_dim, embed_dim),\n",
        "            nn.Dropout(dropout),\n",
        "        )\n",
        "        self.dropout2 = nn.Dropout(dropout)\n",
        "\n",
        "    def forward(self, x):\n",
        "        attn_out,attn=self.mhsa(self.norm1(x))\n",
        "        x = x + self.dropout1(attn_out)\n",
        "        x = x + self.dropout2(self.mlp(self.norm2(x)))\n",
        "        return x\n",
        "\n",
        "# Test Transformer Encoder Block\n",
        "encoder_block = TransformerEncoderBlock(embed_dim=128, num_heads=8, mlp_dim=256)\n",
        "encoded_output = encoder_block(attn_output)\n",
        "print(encoded_output.shape)  # Expected shape: (1, num_patches, embed_dim)\n"
      ],
      "metadata": {
        "colab": {
          "base_uri": "https://localhost:8080/"
        },
        "id": "H9Zngb_7qGeZ",
        "outputId": "7db44a05-5d3e-422f-ad81-7509bbb55f87"
      },
      "execution_count": null,
      "outputs": [
        {
          "output_type": "stream",
          "name": "stdout",
          "text": [
            "torch.Size([1, 16, 128])\n"
          ]
        }
      ]
    },
    {
      "cell_type": "code",
      "source": [
        "class VisionTransformer(nn.Module):\n",
        "    def __init__(self, img_size=28, patch_size=7, num_classes=3, embed_dim=128, depth=2, num_heads=8, mlp_dim=256,dropout=0):\n",
        "        super(VisionTransformer, self).__init__()\n",
        "        self.patch_embedding = PatchEmbedding_conv(img_size, patch_size, embed_dim=embed_dim)\n",
        "        num_patches = (img_size // patch_size) ** 2\n",
        "\n",
        "        self.pos_embedding = nn.Parameter(torch.randn(1, num_patches + 1, embed_dim))\n",
        "        self.cls_token = nn.Parameter(torch.randn(1, 1, embed_dim))\n",
        "        self.dropout = nn.Dropout(0.1)\n",
        "\n",
        "        self.encoder = nn.ModuleList([\n",
        "            TransformerEncoderBlock(embed_dim, num_heads, mlp_dim,dropout)\n",
        "            for _ in range(depth)\n",
        "        ])\n",
        "\n",
        "        self.mlp_head = nn.Sequential(\n",
        "            nn.LayerNorm(embed_dim),\n",
        "            nn.Linear(embed_dim, num_classes)\n",
        "        )\n",
        "\n",
        "    def forward(self, x,con=False):\n",
        "        x = self.patch_embedding(x)\n",
        "        batch_size = x.shape[0]\n",
        "        cls_tokens = self.cls_token.expand(batch_size, -1, -1)\n",
        "        x = torch.cat((cls_tokens, x), dim=1)\n",
        "        # print(x.shape)\n",
        "        x += self.pos_embedding\n",
        "        x = self.dropout(x)\n",
        "\n",
        "        for encoder_block in self.encoder:\n",
        "            x = encoder_block(x)\n",
        "\n",
        "        if con:\n",
        "          return x[:,0]\n",
        "        x = self.mlp_head(x[:, 0])\n",
        "        return x\n",
        "\n",
        "# Test Vision Transformer\n",
        "vit = VisionTransformer()\n",
        "output = vit(sample_image)\n",
        "print(output.shape)  # Expected shape: (batch_size, num_classes)\n"
      ],
      "metadata": {
        "colab": {
          "base_uri": "https://localhost:8080/"
        },
        "id": "RMn-BJduqJoD",
        "outputId": "0ec53333-c527-447d-8523-d8bf63bc3171"
      },
      "execution_count": null,
      "outputs": [
        {
          "output_type": "stream",
          "name": "stdout",
          "text": [
            "torch.Size([1, 3])\n"
          ]
        }
      ]
    },
    {
      "cell_type": "code",
      "source": [
        "from re import M\n",
        "def train_model(model, train_loader, criterion, optimizer,schedular,num_epochs,num_batch_size):\n",
        "    model.train()\n",
        "    for epoch in range(num_epochs):\n",
        "        running_loss = 0.0\n",
        "        running_accuracy = 0.0\n",
        "        for images, labels in train_loader:\n",
        "            optimizer.zero_grad()\n",
        "            outputs = model(images)\n",
        "            loss = criterion(outputs, labels)\n",
        "            loss.backward()\n",
        "            torch.nn.utils.clip_grad_norm_(model.parameters(),max_norm=1.0)\n",
        "            optimizer.step()\n",
        "            accuracy = labels.eq(F.softmax(outputs,dim=1).argmax(1)).sum().div(num_batch_size).mul(100)\n",
        "            running_loss += loss.item()\n",
        "            running_accuracy += accuracy.item()\n",
        "        schedular.step()\n",
        "        print(f\"Epoch {epoch+1}/{num_epochs}, Loss: {running_loss/len(train_loader)}\")\n",
        "        print(f\"Epoch {epoch+1}/{num_epochs},Accuracy: {running_accuracy/len(train_loader)}\")\n"
      ],
      "metadata": {
        "id": "WFfvfEwL0nKC"
      },
      "execution_count": null,
      "outputs": []
    },
    {
      "cell_type": "code",
      "source": [
        "def evaluate_model(model, test_loader):\n",
        "    model.eval()\n",
        "    all_preds = []\n",
        "    all_labels = []\n",
        "    with torch.no_grad():\n",
        "        for images, labels in test_loader:\n",
        "            outputs = model(images)\n",
        "            _, preds = torch.max(outputs, 1)\n",
        "            all_preds.append(preds)\n",
        "            all_labels.append(labels)\n",
        "    all_preds = torch.cat(all_preds)\n",
        "    all_labels = torch.cat(all_labels)\n",
        "\n",
        "    accuracy = (all_preds == all_labels).float().mean().item()\n",
        "    print(f\"Classification Accuracy: {accuracy * 100:.2f}%\")\n",
        "\n",
        "    cm = confusion_matrix(all_labels.numpy(), all_preds.numpy())\n",
        "    sns.heatmap(cm, annot=True, fmt='d', cmap='Blues', xticklabels=[0, 1, 2], yticklabels=[0, 1, 2])\n",
        "    plt.xlabel('Predicted')\n",
        "    plt.ylabel('True')\n",
        "    plt.show()\n",
        "\n",
        "    print(classification_report(all_labels.numpy(), all_preds.numpy()))\n"
      ],
      "metadata": {
        "id": "QoGW9J3m1GQn"
      },
      "execution_count": null,
      "outputs": []
    },
    {
      "cell_type": "markdown",
      "source": [
        "Hperparameters"
      ],
      "metadata": {
        "id": "K5UhH5Jo53iT"
      }
    },
    {
      "cell_type": "code",
      "source": [
        "learning_rate = 0.0001\n",
        "num_epochs = 10\n",
        "num_batches = 12\n",
        "hidden_dim = 512\n",
        "# embed_dim ="
      ],
      "metadata": {
        "id": "i2IwjKDX1Iwr"
      },
      "execution_count": null,
      "outputs": []
    },
    {
      "cell_type": "code",
      "source": [
        "model = VisionTransformer()\n",
        "criterion = nn.CrossEntropyLoss()\n",
        "optimizer = optim.Adam(model.parameters(), lr=learning_rate)\n",
        "schedular = torch.optim.lr_scheduler.StepLR(optimizer,step_size=10,gamma=0.1)"
      ],
      "metadata": {
        "id": "fbP1mj6X1Ldr"
      },
      "execution_count": null,
      "outputs": []
    },
    {
      "cell_type": "markdown",
      "source": [
        "Train VIT"
      ],
      "metadata": {
        "id": "sAqMZlgkZdi0"
      }
    },
    {
      "cell_type": "code",
      "source": [
        "train_model(model, train_loader, criterion, optimizer,schedular, num_epochs,num_batches)"
      ],
      "metadata": {
        "colab": {
          "base_uri": "https://localhost:8080/"
        },
        "id": "YeJVYJjY1NlC",
        "outputId": "f71d1f9f-9f62-4c55-e91f-8ec4b09716ae"
      },
      "execution_count": null,
      "outputs": [
        {
          "output_type": "stream",
          "name": "stdout",
          "text": [
            "Epoch 1/10, Loss: 1.1499717807769776\n",
            "Epoch 1/10,Accuracy: 31.00000030517578\n",
            "Epoch 2/10, Loss: 1.0811369013786316\n",
            "Epoch 2/10,Accuracy: 40.0\n",
            "Epoch 3/10, Loss: 1.0549595141410828\n",
            "Epoch 3/10,Accuracy: 48.666666717529296\n",
            "Epoch 4/10, Loss: 0.9593509793281555\n",
            "Epoch 4/10,Accuracy: 63.00000015258789\n",
            "Epoch 5/10, Loss: 0.6777983808517456\n",
            "Epoch 5/10,Accuracy: 81.0\n",
            "Epoch 6/10, Loss: 0.4007666563987732\n",
            "Epoch 6/10,Accuracy: 87.66666564941406\n",
            "Epoch 7/10, Loss: 0.262288773059845\n",
            "Epoch 7/10,Accuracy: 89.33333435058594\n",
            "Epoch 8/10, Loss: 0.20244837746024133\n",
            "Epoch 8/10,Accuracy: 92.00000061035156\n",
            "Epoch 9/10, Loss: 0.14570129454135894\n",
            "Epoch 9/10,Accuracy: 95.66666748046875\n",
            "Epoch 10/10, Loss: 0.12458824388682842\n",
            "Epoch 10/10,Accuracy: 95.00000183105469\n"
          ]
        }
      ]
    },
    {
      "cell_type": "code",
      "source": [
        "torch.save(model.state_dict(), \"vit_model.pth\")"
      ],
      "metadata": {
        "id": "odwHtkkVbS7D"
      },
      "execution_count": null,
      "outputs": []
    },
    {
      "cell_type": "markdown",
      "source": [
        "Printing model parameters\n"
      ],
      "metadata": {
        "id": "YWySDstqZiAL"
      }
    },
    {
      "cell_type": "code",
      "source": [
        "# for p in model.parameters():\n",
        "#   if p.grad is not None:\n",
        "#     print(p.grad.data.abs().mean())"
      ],
      "metadata": {
        "id": "Dwq6O2I4fWWk"
      },
      "execution_count": null,
      "outputs": []
    },
    {
      "cell_type": "markdown",
      "source": [
        "Evaluation VIT and making confusion Matrix"
      ],
      "metadata": {
        "id": "tRQ6tjsdZm1K"
      }
    },
    {
      "cell_type": "code",
      "source": [
        "evaluate_model(model, test_loader)"
      ],
      "metadata": {
        "colab": {
          "base_uri": "https://localhost:8080/",
          "height": 646
        },
        "id": "8RxskVW21mkJ",
        "outputId": "e51f33e1-6a40-4dac-dddb-7876a007182a"
      },
      "execution_count": null,
      "outputs": [
        {
          "output_type": "stream",
          "name": "stdout",
          "text": [
            "Classification Accuracy: 94.33%\n"
          ]
        },
        {
          "output_type": "display_data",
          "data": {
            "text/plain": [
              "<Figure size 640x480 with 2 Axes>"
            ],
            "image/png": "[encoded data removed]"
          },
          "metadata": {}
        },
        {
          "output_type": "stream",
          "name": "stdout",
          "text": [
            "              precision    recall  f1-score   support\n",
            "\n",
            "           0       0.92      1.00      0.96       100\n",
            "           1       0.95      0.96      0.96       100\n",
            "           2       0.97      0.87      0.92       100\n",
            "\n",
            "    accuracy                           0.94       300\n",
            "   macro avg       0.94      0.94      0.94       300\n",
            "weighted avg       0.94      0.94      0.94       300\n",
            "\n"
          ]
        }
      ]
    },
    {
      "cell_type": "code",
      "source": [],
      "metadata": {
        "id": "IrqPjVxw8Y2k"
      },
      "execution_count": null,
      "outputs": []
    },
    {
      "cell_type": "markdown",
      "source": [
        "ViT with Regularization and Data Augmentation\n",
        "\n",
        "1. Regularization\n",
        "\n",
        "\n",
        "*   Weight decay\n",
        "*   Dropout\n",
        "\n",
        "2. Data Augmentation\n",
        "\n",
        "\n",
        "*   MixUp\n",
        "*   RandAugment\n",
        "\n",
        "---\n",
        "\n",
        "\n",
        "\n"
      ],
      "metadata": {
        "id": "xJj6NZi66w8V"
      }
    },
    {
      "cell_type": "code",
      "source": [],
      "metadata": {
        "id": "PRAr_tXU65dz"
      },
      "execution_count": null,
      "outputs": []
    },
    {
      "cell_type": "code",
      "source": [
        "hyperparameters = {\n",
        "    \"learning_rate\": 0.0001,\n",
        "    \"num_epochs\": 10,\n",
        "    \"hidden_dim\": 256,\n",
        "    \"num_heads\": 4,\n",
        "    \"hidden_embedding_size\": 256,\n",
        "    \"dropout\": 0.2,\n",
        "    \"stochastic_depth_probability\": 0.2,\n",
        "}"
      ],
      "metadata": {
        "id": "z0cPBQXG-X6H"
      },
      "execution_count": null,
      "outputs": []
    },
    {
      "cell_type": "code",
      "source": [
        "model = VisionTransformer()\n",
        "criterion = nn.CrossEntropyLoss()\n",
        "optimizer = optim.Adam(model.parameters(), lr=0.0001,weight_decay=0.0001)\n",
        "schedular = torch.optim.lr_scheduler.StepLR(optimizer,step_size=10,gamma=0.1)"
      ],
      "metadata": {
        "id": "f2Rc511S-kAE"
      },
      "execution_count": null,
      "outputs": []
    },
    {
      "cell_type": "code",
      "source": [
        "def mixup_data(x, y, alpha=1.0):\n",
        "  if alpha > 0:\n",
        "    lam = torch.distributions.Beta(alpha, alpha).sample()\n",
        "  else:\n",
        "    lam = 1.0\n",
        "  batch_size = x.size(0)\n",
        "  index = torch.randperm(batch_size)\n",
        "\n",
        "  mixed_x = lam * x + (1 - lam) * x[index, :]\n",
        "  mixed_y = lam * y + (1 - lam) * y[index]\n",
        "  return mixed_x[0], mixed_y.long()[0]"
      ],
      "metadata": {
        "id": "YQwIW4IG7kpE"
      },
      "execution_count": null,
      "outputs": []
    },
    {
      "cell_type": "code",
      "source": [
        "def rand_augment(image, num_ops=2, magnitude=9):\n",
        "  augmentations = [\n",
        "    torchvision.transforms.RandomRotation(degrees=(0, magnitude * 10)),\n",
        "    torchvision.transforms.RandomHorizontalFlip(p=0.5),\n",
        "    torchvision.transforms.RandomVerticalFlip(p=0.5),\n",
        "    torchvision.transforms.RandomResizedCrop(size=image.shape[-2:], scale=(0.8, 1.0)),\n",
        "    torchvision.transforms.ColorJitter(brightness=magnitude/10, contrast=magnitude/10),\n",
        "    torchvision.transforms.RandomAffine(degrees=(0, 0), translate=(magnitude/20, magnitude/20)),\n",
        "  ]\n",
        "\n",
        "  transform_list = torch.randperm(len(augmentations))[:num_ops].tolist()\n",
        "\n",
        "  for i in transform_list:\n",
        "    image = augmentations[i](image)\n",
        "\n",
        "  return image"
      ],
      "metadata": {
        "id": "hvoOC4nj8jlN"
      },
      "execution_count": null,
      "outputs": []
    },
    {
      "cell_type": "code",
      "source": [
        "def train_aug(Network,\n",
        "              number_of_epoch,\n",
        "              dataloader,\n",
        "              criterion,\n",
        "              optimizer,\n",
        "              hyperparameters,\n",
        "              ):\n",
        "    Network.train()\n",
        "\n",
        "    # _save_hyperparameters_to_pdf(hyperparameters,pdf)\n",
        "\n",
        "    for epoch in range(number_of_epoch):\n",
        "      running_loss = 0.0\n",
        "      all_preds = []\n",
        "      all_labels = []\n",
        "      for data, label in dataloader:\n",
        "        if torch.rand(1).item() > 0.5:\n",
        "          data, label = mixup_data(data.unsqueeze(0), label.unsqueeze(0))\n",
        "        else:\n",
        "          data = rand_augment(data)\n",
        "\n",
        "        optimizer.zero_grad()\n",
        "        outputs = Network(data)\n",
        "        _, preds = torch.max(outputs, 1)\n",
        "        all_preds.append(preds)\n",
        "        all_labels.append(label)\n",
        "        loss = criterion(outputs, label)\n",
        "        loss.backward()\n",
        "        optimizer.step()\n",
        "        running_loss += loss.item()\n",
        "      all_preds = torch.cat(all_preds)\n",
        "      all_labels = torch.cat(all_labels)\n",
        "      accuracy = (all_preds == all_labels).float().mean().item()\n",
        "\n",
        "      clear_output(wait=True)\n",
        "      print(f\"Epoch {epoch+1} Loss: {running_loss/len(dataloader)} Accuracy: {accuracy* 100:.2f}%\")\n"
      ],
      "metadata": {
        "id": "WpTioQAL8qO6"
      },
      "execution_count": null,
      "outputs": []
    },
    {
      "cell_type": "code",
      "source": [
        "train_aug(Network=model,\n",
        "          number_of_epoch=hyperparameters['num_epochs'],\n",
        "          dataloader=train_loader,\n",
        "          criterion = criterion,\n",
        "          optimizer = optimizer,\n",
        "          hyperparameters=hyperparameters\n",
        "          )"
      ],
      "metadata": {
        "colab": {
          "base_uri": "https://localhost:8080/"
        },
        "id": "KOy2hfmX8_Qn",
        "outputId": "c4e8a558-b781-429b-e872-c0c37ea8ede4"
      },
      "execution_count": null,
      "outputs": [
        {
          "output_type": "stream",
          "name": "stdout",
          "text": [
            "Epoch 10 Loss: 0.4763642412424087 Accuracy: 81.00%\n"
          ]
        }
      ]
    },
    {
      "cell_type": "code",
      "source": [
        "def evaluate( Network,\n",
        "              dataloader,\n",
        "              ):\n",
        "  Network.eval()\n",
        "  all_preds = []\n",
        "  all_labels = []\n",
        "\n",
        "  with torch.no_grad():\n",
        "    for data, label in dataloader:\n",
        "      outputs = Network(data)\n",
        "      _, preds = torch.max(outputs, 1)\n",
        "      all_preds.append(preds)\n",
        "      all_labels.append(label)\n",
        "  all_preds = torch.cat(all_preds)\n",
        "  all_labels = torch.cat(all_labels)\n",
        "\n",
        "  accuracy = (all_preds == all_labels).float().mean().item()\n",
        "  print(f\"Classification Accuracy: {accuracy * 100:.2f}%\")\n",
        "\n",
        "  matrix = confusion_matrix(all_labels.numpy(), all_preds.numpy())\n",
        "  fig, ax = plt.subplots()\n",
        "  sns.heatmap(matrix, annot=True, fmt='d', cmap='jet', xticklabels=[0, 1, 2], yticklabels=[0, 1, 2], ax=ax)\n",
        "  ax.set_xlabel('Predicted')\n",
        "  ax.set_ylabel('True')\n",
        "  ax.set_title(f'Confusion Matrix - Accuracy: {accuracy * 100:.2f}%')\n",
        "  # pdf.savefig(fig)\n",
        "  plt.close(fig)\n",
        "\n",
        "  classification_rep = classification_report(all_labels.numpy(), all_preds.numpy())\n",
        "  # self._save_text_to_pdf(\"Classification Report\", classification_rep)\n"
      ],
      "metadata": {
        "id": "QAH9NN75Ai5R"
      },
      "execution_count": null,
      "outputs": []
    },
    {
      "cell_type": "code",
      "source": [
        "evaluate(Network=model,\n",
        "         dataloader = test_loader)"
      ],
      "metadata": {
        "colab": {
          "base_uri": "https://localhost:8080/"
        },
        "id": "BNkJ0eTOAIVI",
        "outputId": "a09ba78e-8fd9-44d5-8dcf-1b32f829e3ca"
      },
      "execution_count": null,
      "outputs": [
        {
          "output_type": "stream",
          "name": "stdout",
          "text": [
            "Classification Accuracy: 92.67%\n"
          ]
        }
      ]
    },
    {
      "cell_type": "markdown",
      "source": [
        "Contrastive LOSS"
      ],
      "metadata": {
        "id": "Rt5hDdMUEGKL"
      }
    },
    {
      "cell_type": "code",
      "source": [
        "class ContrastiveLoss(torch.nn.Module):\n",
        "  def __init__(self):\n",
        "    super().__init__()\n",
        "\n",
        "  def forward(self,out_1, out_2, label):\n",
        "    distance = torch.nn.functional.pairwise_distance(out_1,out_2)\n",
        "    loss = torch.mean((1-label)*torch.pow(distance,2) + label*torch.pow(torch.clamp(1 - distance, min=0.0), 2))\n",
        "    return loss"
      ],
      "metadata": {
        "id": "EgNGpC8bEJLb"
      },
      "execution_count": null,
      "outputs": []
    },
    {
      "cell_type": "code",
      "source": [
        "model = VisionTransformer()\n",
        "criterion = ContrastiveLoss()\n",
        "optimizer = optim.Adam(model.parameters(), lr=0.0001,weight_decay=0.0001)\n",
        "schedular = torch.optim.lr_scheduler.StepLR(optimizer,step_size=10,gamma=0.1)"
      ],
      "metadata": {
        "id": "YbBD40gEERnx"
      },
      "execution_count": null,
      "outputs": []
    },
    {
      "cell_type": "code",
      "source": [
        "import random"
      ],
      "metadata": {
        "id": "fZiMeqFeVFEy"
      },
      "execution_count": null,
      "outputs": []
    },
    {
      "cell_type": "code",
      "source": [
        "def train_con(Network,\n",
        "                number_of_epoch,\n",
        "                dataloader,\n",
        "                criterion,\n",
        "                optimizer):\n",
        "    Network.train()\n",
        "\n",
        "    for epoch in range(number_of_epoch):\n",
        "      running_loss = 0.0\n",
        "      for data, _ in dataloader:\n",
        "        data2 = rand_augment(data,num_ops=1)\n",
        "\n",
        "        data_pairs = list(itertools.product(data, data2))\n",
        "        data1 = torch.stack([pair[0] for pair in data_pairs])\n",
        "        data2 = torch.stack([pair[1] for pair in data_pairs])\n",
        "\n",
        "        label = torch.ones(data1.size(0))\n",
        "        batch_size = data.size(0)\n",
        "        for i in range(batch_size):\n",
        "          label[i * batch_size + i] = 0\n",
        "\n",
        "        similar_indices = (label == 0).nonzero(as_tuple=True)[0]\n",
        "        dissimilar_indices = (label == 1).nonzero(as_tuple=True)[0]\n",
        "\n",
        "        sampled_dissimilar_indices = random.sample(dissimilar_indices.tolist(), len(similar_indices))\n",
        "        indices = torch.tensor(similar_indices.tolist() + sampled_dissimilar_indices).to(data.device)\n",
        "\n",
        "        data1 = data1[indices]\n",
        "        data2 = data2[indices]\n",
        "        label = label[indices]\n",
        "\n",
        "        optimizer.zero_grad()\n",
        "        outputs1 = Network(data1,con = True)\n",
        "        outputs2 = Network(data2,con = True)\n",
        "\n",
        "        loss = criterion(outputs1, outputs2, label)\n",
        "        loss.backward()\n",
        "        optimizer.step()\n",
        "        running_loss += loss.item()\n",
        "\n",
        "      # clear_output(wait=True)\n",
        "      print(f\"Epoch {epoch+1} Loss: {running_loss/len(dataloader)}\")"
      ],
      "metadata": {
        "id": "TaVOtrIMUj5g"
      },
      "execution_count": null,
      "outputs": []
    },
    {
      "cell_type": "code",
      "source": [
        "train_con(model,2,train_loader,criterion,optimizer)"
      ],
      "metadata": {
        "colab": {
          "base_uri": "https://localhost:8080/"
        },
        "id": "IDTMJTQ9VH3z",
        "outputId": "f149572c-9a41-4293-9832-f2b387c2658e"
      },
      "execution_count": null,
      "outputs": [
        {
          "output_type": "stream",
          "name": "stdout",
          "text": [
            "Epoch 1 Loss: 21.017184219360352\n",
            "Epoch 2 Loss: 19.72689147949219\n"
          ]
        }
      ]
    },
    {
      "cell_type": "markdown",
      "source": [
        "SWIM DATASET"
      ],
      "metadata": {
        "id": "5nqfQVQ_8Z9m"
      }
    },
    {
      "cell_type": "code",
      "source": [
        "!pip install timm"
      ],
      "metadata": {
        "colab": {
          "base_uri": "https://localhost:8080/"
        },
        "id": "pSVlVIJr6B9t",
        "outputId": "858b3f57-d7b0-441c-ead8-80e3fc8e83c5"
      },
      "execution_count": null,
      "outputs": [
        {
          "output_type": "stream",
          "name": "stdout",
          "text": [
            "Collecting timm\n",
            "  Downloading timm-1.0.9-py3-none-any.whl.metadata (42 kB)\n",
            "\u001b[?25l     \u001b[90m━━━━━━━━━━━━━━━━━━━━━━━━━━━━━━━━━━━━━━━━\u001b[0m \u001b[32m0.0/42.4 kB\u001b[0m \u001b[31m?\u001b[0m eta \u001b[36m-:--:--\u001b[0m\r\u001b[2K     \u001b[91m━━━━━━━━━━━━━━━━━━━━━━━━━━━━\u001b[0m\u001b[91m╸\u001b[0m\u001b[90m━━━━━━━━━━━\u001b[0m \u001b[32m30.7/42.4 kB\u001b[0m \u001b[31m652.9 kB/s\u001b[0m eta \u001b[36m0:00:01\u001b[0m\r\u001b[2K     \u001b[90m━━━━━━━━━━━━━━━━━━━━━━━━━━━━━━━━━━━━━━━━\u001b[0m \u001b[32m42.4/42.4 kB\u001b[0m \u001b[31m653.0 kB/s\u001b[0m eta \u001b[36m0:00:00\u001b[0m\n",
            "\u001b[?25hRequirement already satisfied: torch in /usr/local/lib/python3.10/dist-packages (from timm) (2.4.0+cu121)\n",
            "Requirement already satisfied: torchvision in /usr/local/lib/python3.10/dist-packages (from timm) (0.19.0+cu121)\n",
            "Requirement already satisfied: pyyaml in /usr/local/lib/python3.10/dist-packages (from timm) (6.0.2)\n",
            "Requirement already satisfied: huggingface_hub in /usr/local/lib/python3.10/dist-packages (from timm) (0.23.5)\n",
            "Requirement already satisfied: safetensors in /usr/local/lib/python3.10/dist-packages (from timm) (0.4.4)\n",
            "Requirement already satisfied: filelock in /usr/local/lib/python3.10/dist-packages (from huggingface_hub->timm) (3.15.4)\n",
            "Requirement already satisfied: fsspec>=2023.5.0 in /usr/local/lib/python3.10/dist-packages (from huggingface_hub->timm) (2024.6.1)\n",
            "Requirement already satisfied: packaging>=20.9 in /usr/local/lib/python3.10/dist-packages (from huggingface_hub->timm) (24.1)\n",
            "Requirement already satisfied: requests in /usr/local/lib/python3.10/dist-packages (from huggingface_hub->timm) (2.32.3)\n",
            "Requirement already satisfied: tqdm>=4.42.1 in /usr/local/lib/python3.10/dist-packages (from huggingface_hub->timm) (4.66.5)\n",
            "Requirement already satisfied: typing-extensions>=3.7.4.3 in /usr/local/lib/python3.10/dist-packages (from huggingface_hub->timm) (4.12.2)\n",
            "Requirement already satisfied: sympy in /usr/local/lib/python3.10/dist-packages (from torch->timm) (1.13.2)\n",
            "Requirement already satisfied: networkx in /usr/local/lib/python3.10/dist-packages (from torch->timm) (3.3)\n",
            "Requirement already satisfied: jinja2 in /usr/local/lib/python3.10/dist-packages (from torch->timm) (3.1.4)\n",
            "Requirement already satisfied: numpy in /usr/local/lib/python3.10/dist-packages (from torchvision->timm) (1.26.4)\n",
            "Requirement already satisfied: pillow!=8.3.*,>=5.3.0 in /usr/local/lib/python3.10/dist-packages (from torchvision->timm) (9.4.0)\n",
            "Requirement already satisfied: MarkupSafe>=2.0 in /usr/local/lib/python3.10/dist-packages (from jinja2->torch->timm) (2.1.5)\n",
            "Requirement already satisfied: charset-normalizer<4,>=2 in /usr/local/lib/python3.10/dist-packages (from requests->huggingface_hub->timm) (3.3.2)\n",
            "Requirement already satisfied: idna<4,>=2.5 in /usr/local/lib/python3.10/dist-packages (from requests->huggingface_hub->timm) (3.8)\n",
            "Requirement already satisfied: urllib3<3,>=1.21.1 in /usr/local/lib/python3.10/dist-packages (from requests->huggingface_hub->timm) (2.0.7)\n",
            "Requirement already satisfied: certifi>=2017.4.17 in /usr/local/lib/python3.10/dist-packages (from requests->huggingface_hub->timm) (2024.7.4)\n",
            "Requirement already satisfied: mpmath<1.4,>=1.1.0 in /usr/local/lib/python3.10/dist-packages (from sympy->torch->timm) (1.3.0)\n",
            "Downloading timm-1.0.9-py3-none-any.whl (2.3 MB)\n",
            "\u001b[2K   \u001b[90m━━━━━━━━━━━━━━━━━━━━━━━━━━━━━━━━━━━━━━━━\u001b[0m \u001b[32m2.3/2.3 MB\u001b[0m \u001b[31m10.5 MB/s\u001b[0m eta \u001b[36m0:00:00\u001b[0m\n",
            "\u001b[?25hInstalling collected packages: timm\n",
            "Successfully installed timm-1.0.9\n"
          ]
        }
      ]
    },
    {
      "cell_type": "code",
      "source": [
        "from timm.models.layers import DropPath, to_2tuple, trunc_normal_"
      ],
      "metadata": {
        "id": "e3mz7BI2k6t0"
      },
      "execution_count": null,
      "outputs": []
    },
    {
      "cell_type": "code",
      "source": [
        "previous_train_indices = np.array(previous_train_indices)\n",
        "previous_test_indices = np.array(previous_test_indices)\n",
        "# print(previous_train_indices)"
      ],
      "metadata": {
        "id": "6HoNn4aD3W9J"
      },
      "execution_count": null,
      "outputs": []
    },
    {
      "cell_type": "code",
      "source": [
        "new_train_indices = {0:[],1:[],2:[]}\n",
        "new_test_indices = {0:[],1:[],2:[]}"
      ],
      "metadata": {
        "id": "gULs_qPv4zcW"
      },
      "execution_count": null,
      "outputs": []
    },
    {
      "cell_type": "code",
      "source": [
        "for i,(image,label) in enumerate(Actual_train_dataset):\n",
        "  if label in [0,1,2] and i not in previous_train_indices:\n",
        "    new_train_indices[label].append(i)"
      ],
      "metadata": {
        "id": "7eHVnO_p3ClA"
      },
      "execution_count": null,
      "outputs": []
    },
    {
      "cell_type": "code",
      "source": [
        "for i,(image,label) in enumerate(Actual_test_dataset):\n",
        "  if label in [0,1,2] and i not in previous_train_indices:\n",
        "    new_test_indices[label].append(i)"
      ],
      "metadata": {
        "id": "8Zu8EN9F5_dR"
      },
      "execution_count": null,
      "outputs": []
    },
    {
      "cell_type": "code",
      "source": [
        "selected_train_indices = []\n",
        "selected_test_indices = []\n",
        "\n",
        "for cls in classes_to_sample:\n",
        "  selected_train_indices.extend(np.random.choice(new_train_indices[cls],100,replace=False))\n",
        "  selected_test_indices.extend(np.random.choice(new_test_indices[cls],100,replace=False))"
      ],
      "metadata": {
        "id": "URhjZsyf6IRB"
      },
      "execution_count": null,
      "outputs": []
    },
    {
      "cell_type": "code",
      "source": [
        "Swim_train_samples = torch.utils.data.Subset(Actual_train_dataset,selected_train_indices)\n",
        "Swim_test_samples = torch.utils.data.Subset(Actual_test_dataset,selected_test_indices)"
      ],
      "metadata": {
        "id": "xIZTLoLx677V"
      },
      "execution_count": null,
      "outputs": []
    },
    {
      "cell_type": "code",
      "source": [
        "print(len(Swim_train_samples))"
      ],
      "metadata": {
        "colab": {
          "base_uri": "https://localhost:8080/"
        },
        "id": "3UoNap_P_DiK",
        "outputId": "0401b74a-27ef-4812-8fdd-19affa2f17f0"
      },
      "execution_count": null,
      "outputs": [
        {
          "output_type": "stream",
          "name": "stdout",
          "text": [
            "300\n"
          ]
        }
      ]
    },
    {
      "cell_type": "code",
      "source": [
        "Swim_train_loader = torch.utils.data.DataLoader(Swim_train_samples,batch_size=12,shuffle=True)\n",
        "Swim_test_loader = torch.utils.data.DataLoader(Swim_test_samples,batch_size=12,shuffle=True)"
      ],
      "metadata": {
        "id": "YOstdMyK7fy4"
      },
      "execution_count": null,
      "outputs": []
    },
    {
      "cell_type": "code",
      "source": [
        "def window_partition(x, window_size):\n",
        "\n",
        "    B, H, W, C = x.shape\n",
        "    pad_h = (window_size - H % window_size) % window_size\n",
        "    pad_w = (window_size - W % window_size) % window_size\n",
        "\n",
        "    if pad_h > 0 or pad_w > 0:\n",
        "        x = F.pad(x, (0, 0, 0, pad_w, 0, pad_h))\n",
        "\n",
        "    H_padded, W_padded = x.shape[1], x.shape[2]\n",
        "\n",
        "    x = x.view(B, H_padded // window_size, window_size, W_padded // window_size, window_size, C)\n",
        "    windows = x.permute(0, 1, 3, 2, 4, 5).contiguous().view(-1, window_size, window_size, C)\n",
        "\n",
        "    return windows\n"
      ],
      "metadata": {
        "id": "u4_-Wof5Fq6Q"
      },
      "execution_count": null,
      "outputs": []
    },
    {
      "cell_type": "code",
      "source": [
        "\n",
        "class PatchEmbed(nn.Module):\n",
        "    def __init__(self, img_size=28, patch_size=7, in_chans=1, embed_dim=128, norm_layer=None):\n",
        "        super().__init__()\n",
        "        img_size = to_2tuple(img_size)\n",
        "        patch_size = to_2tuple(patch_size)\n",
        "        patches_resolution = [img_size[0] // patch_size[0], img_size[1] // patch_size[1]]\n",
        "\n",
        "        self.img_size = img_size\n",
        "        self.patch_size = patch_size\n",
        "        self.patches_resolution = patches_resolution\n",
        "        self.num_patches = patches_resolution[0] * patches_resolution[1]\n",
        "\n",
        "        self.in_chans = in_chans\n",
        "        self.embed_dim = embed_dim\n",
        "\n",
        "        self.proj = nn.Conv2d(in_chans, embed_dim, kernel_size=patch_size, stride=patch_size)\n",
        "\n",
        "        if norm_layer is not None:\n",
        "            self.norm = norm_layer(embed_dim)\n",
        "        else:\n",
        "            self.norm = None\n",
        "\n",
        "    def forward(self, x):\n",
        "        B, C, H, W = x.shape\n",
        "        assert H == self.img_size[0] and W == self.img_size[1], \\\n",
        "            f\"Input image size ({H}*{W}]) doesn't match model ({self.img_size[0]}*{self.img_size[1]}).\"\n",
        "\n",
        "        x = self.proj(x)\n",
        "        x = x.flatten(2)\n",
        "        x = x.transpose(1, 2)\n",
        "\n",
        "        if self.norm is not None:\n",
        "            x = self.norm(x)\n",
        "\n",
        "        return x\n"
      ],
      "metadata": {
        "id": "_lM-mBtfF1Jo"
      },
      "execution_count": null,
      "outputs": []
    },
    {
      "cell_type": "code",
      "source": [
        "\n",
        "def window_reverse(windows, window_size, H, W):\n",
        "    B = int(windows.shape[0] / (H * W / window_size / window_size))\n",
        "    x = windows.view(B, H // window_size, W // window_size, window_size, window_size, -1)\n",
        "    x = x.permute(0, 1, 3, 2, 4, 5).contiguous()\n",
        "    x = x.view(B, H, W, -1)\n",
        "\n",
        "    return x\n"
      ],
      "metadata": {
        "id": "WWSj2CnkGF1e"
      },
      "execution_count": null,
      "outputs": []
    },
    {
      "cell_type": "code",
      "source": [
        "class Mlp(nn.Module):\n",
        "    def __init__(self, in_features, hidden_features=None, out_features=None, act_layer=nn.GELU, drop=0.):\n",
        "        super().__init__()\n",
        "        out_features = out_features or in_features\n",
        "        hidden_features = hidden_features or in_features\n",
        "\n",
        "        self.fc1 = nn.Linear(in_features, hidden_features)\n",
        "        self.act_layer = act_layer()\n",
        "        self.fc2 = nn.Linear(hidden_features, out_features)\n",
        "        self.drop = nn.Dropout(drop)\n",
        "\n",
        "    def forward(self, x):\n",
        "        x = self.fc1(x)\n",
        "        x = self.act_layer(x)\n",
        "        x = self.drop(x)\n",
        "        x = self.fc2(x)\n",
        "        x = self.drop(x)\n",
        "        return x"
      ],
      "metadata": {
        "id": "bDnmtcQwGMNb"
      },
      "execution_count": null,
      "outputs": []
    },
    {
      "cell_type": "code",
      "source": [
        "\n",
        "class WindowAttention(nn.Module):\n",
        "    def __init__(self, dim, window_size, num_heads, qkv_bias=True, qk_scale=None, attn_drop=0., proj_drop=0.):\n",
        "        super().__init__()\n",
        "        self.dim = dim\n",
        "        self.window_size = window_size\n",
        "        self.num_heads = num_heads\n",
        "        head_dim = dim // num_heads\n",
        "        self.scale = qk_scale or head_dim ** -0.5\n",
        "        self.relative_position_bias_table = nn.Parameter(\n",
        "            torch.zeros((2 * window_size[0] - 1) * (2 * window_size[1] - 1), num_heads)\n",
        "        )\n",
        "        coords_h = torch.arange(self.window_size[0])\n",
        "        coords_w = torch.arange(self.window_size[1])\n",
        "        coords = torch.stack(torch.meshgrid([coords_h, coords_w]))\n",
        "        coords_flatten = torch.flatten(coords, 1)\n",
        "\n",
        "        relative_coords = coords_flatten[:, :, None] - coords_flatten[:, None, :]\n",
        "\n",
        "        relative_coords = relative_coords.permute(1, 2, 0).contiguous()\n",
        "        relative_coords[:, :, 0] += self.window_size[0] - 1\n",
        "        relative_coords[:, :, 1] += self.window_size[1] - 1\n",
        "        relative_coords[:, :, 0] *= 2 * self.window_size[1] - 1\n",
        "\n",
        "        relative_position_index = relative_coords.sum(-1)\n",
        "\n",
        "        self.register_buffer('relative_position_index', relative_position_index)\n",
        "\n",
        "        # Attention\n",
        "        self.qkv = nn.Linear(dim, dim * 3, bias=qkv_bias)\n",
        "        self.attn_drop = nn.Dropout(attn_drop)\n",
        "        self.proj = nn.Linear(dim, dim)\n",
        "        self.proj_drop = nn.Dropout(proj_drop)\n",
        "\n",
        "        trunc_normal_(self.relative_position_bias_table, std=.02)\n",
        "        self.softmax = nn.Softmax(dim=-1)\n",
        "\n",
        "\n",
        "    def forward(self, x, mask=None):\n",
        "        B_, N, C = x.shape\n",
        "\n",
        "        qkv = self.qkv(x)\n",
        "\n",
        "        qkv = qkv.reshape(B_, N, 3, self.num_heads, C // self.num_heads)\n",
        "\n",
        "        qkv = qkv.permute(2, 0, 3, 1, 4)\n",
        "\n",
        "        q, k, v = qkv[0], qkv[1], qkv[2]\n",
        "\n",
        "        q = q * self.scale\n",
        "\n",
        "        attn = (q @ k.transpose(-2, -1))\n",
        "        relative_position_bias = self.relative_position_bias_table[self.relative_position_index.view(-1)].view(\n",
        "            self.window_size[0] * self.window_size[1], self.window_size[0] * self.window_size[1],  -1\n",
        "        )\n",
        "\n",
        "        relative_position_bias = relative_position_bias.permute(2, 0, 1).contiguous()\n",
        "        attn = attn + relative_position_bias.unsqueeze(0)\n",
        "\n",
        "        if mask is not None:\n",
        "            nW = mask.shape[0]\n",
        "            attn = attn.view(B_ // nW, nW, self.num_heads, N, N) + mask.unsqueeze(1).unsqueeze(0)\n",
        "\n",
        "            attn = attn.view(-1, self.num_heads, N, N)\n",
        "            attn = self.softmax(attn)\n",
        "        else:\n",
        "            attn = self.softmax(attn)\n",
        "\n",
        "        attn = self.attn_drop(attn)\n",
        "\n",
        "        x = (attn @ v).transpose(1, 2).reshape(B_, N, C)\n",
        "\n",
        "        x = self.proj(x)\n",
        "        x = self.proj_drop(x)\n",
        "        return x\n"
      ],
      "metadata": {
        "id": "Ll8S0SB7GeV_"
      },
      "execution_count": null,
      "outputs": []
    },
    {
      "cell_type": "code",
      "source": [
        "class PatchMerging(nn.Module):\n",
        "    def __init__(self, input_resolution, dim, norm_layer=nn.LayerNorm):\n",
        "        super().__init__()\n",
        "        self.input_resolution = input_resolution\n",
        "        self.dim = dim\n",
        "        self.reduction = nn.Linear(4 * dim, 2 * dim, bias=False)\n",
        "        self.norm = norm_layer(4 * dim)\n",
        "\n",
        "    def forward(self, x):\n",
        "        H, W = self.input_resolution\n",
        "        B, L,C = x.shape\n",
        "        assert L == H * W, \"input feature has wrong size\"\n",
        "        assert H % 2 == 0 and W % 2 == 0, f\"x size ({H}*{W}) are not even.\"\n",
        "\n",
        "        x = x.view(B, H, W, C)\n",
        "        x0 = x[:, 0::2, 0::2, :]\n",
        "        x1 = x[:, 1::2, 0::2, :]\n",
        "        x2 = x[:, 0::2, 1::2, :]\n",
        "        x3 = x[:, 1::2, 1::2, :]\n",
        "\n",
        "        x = torch.cat([x0, x1, x2, x3], -1)\n",
        "\n",
        "        x = x.view(B, -1, 4 * C)\n",
        "\n",
        "        x = self.norm(x)\n",
        "        x = self.reduction(x)\n",
        "\n",
        "        return x\n",
        "\n"
      ],
      "metadata": {
        "id": "euqhJkYmHG6B"
      },
      "execution_count": null,
      "outputs": []
    },
    {
      "cell_type": "code",
      "source": [
        "class SwinTransformerBlock(nn.Module):\n",
        "    def __init__(self, dim, input_resolution, num_heads, window_size=7, shift_size=0,\n",
        "                 mlp_ratio=4., qkv_bias=True, qk_scale=None, drop=0., attn_drop=0., drop_path=0.,\n",
        "                 act_layer=nn.GELU, norm_layer=nn.LayerNorm):\n",
        "        super().__init__()\n",
        "        self.dim = dim\n",
        "        self.input_resolution = input_resolution\n",
        "        self.num_heads = num_heads\n",
        "        self.window_size = min(window_size, min(input_resolution))  # Ensure window_size is valid\n",
        "        self.shift_size = shift_size if shift_size < self.window_size else 0  # Ensure shift_size is within bounds\n",
        "        self.mlp_ratio = mlp_ratio\n",
        "\n",
        "        assert 0 <= self.shift_size < self.window_size, \"shift_size must be in 0-window_size\"\n",
        "\n",
        "        self.norm1 = norm_layer(dim)\n",
        "        self.attn = WindowAttention(\n",
        "            dim, window_size=to_2tuple(self.window_size), num_heads=num_heads,\n",
        "            qkv_bias=qkv_bias, qk_scale=qk_scale, attn_drop=attn_drop, proj_drop=drop\n",
        "        )\n",
        "\n",
        "        self.drop_path = DropPath(drop_path) if drop_path > 0. else nn.Identity()\n",
        "        self.norm2 = norm_layer(dim)\n",
        "        mlp_hidden_dim = int(dim * mlp_ratio)\n",
        "        self.mlp = Mlp(in_features=dim, hidden_features=mlp_hidden_dim, act_layer=act_layer, drop=drop)\n",
        "\n",
        "        # Calculate attention mask for SW-MSA\n",
        "        if self.shift_size > 0:\n",
        "            H, W = self.input_resolution\n",
        "            img_mask = torch.zeros((1, H, W, 1))  # 1 H W 1\n",
        "            h_slices = (slice(0, -self.window_size),\n",
        "                        slice(-self.window_size, -self.shift_size),\n",
        "                        slice(-self.shift_size, None))\n",
        "            w_slices = (slice(0, -self.window_size),\n",
        "                        slice(-self.window_size, -self.shift_size),\n",
        "                        slice(-self.shift_size, None))\n",
        "            cnt = 0\n",
        "            for h in h_slices:\n",
        "                for w in w_slices:\n",
        "                    img_mask[:, h, w, :] = cnt\n",
        "                    cnt += 1\n",
        "\n",
        "            mask_windows = window_partition(img_mask, self.window_size)\n",
        "            mask_windows = mask_windows.view(-1, self.window_size * self.window_size)\n",
        "            attn_mask = mask_windows.unsqueeze(1) - mask_windows.unsqueeze(2)\n",
        "            attn_mask = attn_mask.masked_fill(attn_mask != 0, float(-100.0)).masked_fill(attn_mask == 0, float(0.0))\n",
        "        else:\n",
        "            attn_mask = None\n",
        "\n",
        "        self.register_buffer(\"attn_mask\", attn_mask)\n",
        "\n",
        "    def forward(self, x):\n",
        "        H, W = self.input_resolution\n",
        "        B, L, C = x.shape\n",
        "        assert L == H * W, \"input feature has wrong size\"\n",
        "\n",
        "        shortcut = x\n",
        "        x = self.norm1(x)\n",
        "        x = x.view(B, H, W, C)\n",
        "\n",
        "        # Cyclic shift\n",
        "        if self.shift_size > 0:\n",
        "            shifted_x = torch.roll(x, shifts=(-self.shift_size, -self.shift_size), dims=(1, 2))\n",
        "        else:\n",
        "            shifted_x = x\n",
        "\n",
        "        # Partition windows\n",
        "        x_windows = window_partition(shifted_x, self.window_size)\n",
        "        x_windows = x_windows.view(-1, self.window_size * self.window_size, C)\n",
        "\n",
        "        # W-MSA/SW-MSA\n",
        "        attn_windows = self.attn(x_windows, mask=self.attn_mask)\n",
        "\n",
        "        # Merge windows\n",
        "        attn_windows = attn_windows.view(-1, self.window_size, self.window_size, C)\n",
        "        shifted_x = window_reverse(attn_windows, self.window_size, H, W)\n",
        "\n",
        "        # Reverse cyclic shift\n",
        "        if self.shift_size > 0:\n",
        "            x = torch.roll(shifted_x, shifts=(self.shift_size, self.shift_size), dims=(1, 2))\n",
        "        else:\n",
        "            x = shifted_x\n",
        "        x = x.view(B, H * W, C)\n",
        "\n",
        "        # FFN\n",
        "        x = shortcut + self.drop_path(x)\n",
        "        x = x + self.drop_path(self.mlp(self.norm2(x)))\n",
        "\n",
        "        return x\n"
      ],
      "metadata": {
        "id": "bwQQWVs0OTuQ"
      },
      "execution_count": null,
      "outputs": []
    },
    {
      "cell_type": "code",
      "source": [
        "class SimpleSwinTransformer(nn.Module):\n",
        "    def __init__(self, img_size=28, patch_size=4, in_chans=1, num_classes=3,\n",
        "                 embed_dim=96, depths=[2, 2], num_heads=[3, 6], window_size=7,\n",
        "                 mlp_ratio=4., qkv_bias=True, qk_scale=None,\n",
        "                 drop_rate=0., attn_drop_rate=0., drop_path_rate=0.1,\n",
        "                 norm_layer=nn.LayerNorm, ape=False, patch_norm=True):\n",
        "        super().__init__()\n",
        "\n",
        "        self.num_classes = num_classes\n",
        "        self.num_layers = len(depths)\n",
        "        self.embed_dim = embed_dim\n",
        "        self.ape = ape\n",
        "        self.patch_norm = patch_norm\n",
        "        self.num_features = int(embed_dim * 2 ** (self.num_layers - 1))\n",
        "        self.mlp_ratio = mlp_ratio\n",
        "\n",
        "        # Split image into non-overlapping patches\n",
        "        self.patch_embed = PatchEmbed(\n",
        "            img_size=img_size, patch_size=patch_size, in_chans=in_chans, embed_dim=embed_dim,\n",
        "            norm_layer=norm_layer if self.patch_norm else None\n",
        "        )\n",
        "        num_patches = self.patch_embed.num_patches\n",
        "        patches_resolution = self.patch_embed.patches_resolution\n",
        "        self.patches_resolution = patches_resolution\n",
        "\n",
        "        self.pos_drop = nn.Dropout(p=drop_rate)\n",
        "\n",
        "        # Stochastic Depth\n",
        "        dpr = [x.item() for x in torch.linspace(0, drop_path_rate, sum(depths))] # stochastic depth decay rule\n",
        "\n",
        "        # Build Swin Transformer layers\n",
        "        self.layers = nn.ModuleList()\n",
        "        for i_layer in range(self.num_layers):\n",
        "            layer = BasicLayer(\n",
        "                dim=int(embed_dim * 2 ** i_layer),\n",
        "                input_resolution=(\n",
        "                    patches_resolution[0] // (2 ** i_layer), # After patch-merging layer, patches_resolution(H, W) is halved\n",
        "                    patches_resolution[1] // (2 ** i_layer),\n",
        "                ),\n",
        "                depth=depths[i_layer],\n",
        "                num_heads=num_heads[i_layer],\n",
        "                window_size=window_size,\n",
        "                mlp_ratio=self.mlp_ratio,\n",
        "                qkv_bias=qkv_bias, qk_scale=qk_scale,\n",
        "                drop=drop_rate, attn_drop=attn_drop_rate,\n",
        "                drop_path=dpr[sum(depths[:i_layer]):sum(depths[:i_layer + 1])],\n",
        "                norm_layer=norm_layer,\n",
        "                downsample=PatchMerging if (i_layer < self.num_layers - 1) else None, # No patch merging at the last stage\n",
        "            )\n",
        "            self.layers.append(layer)\n",
        "\n",
        "        self.norm = norm_layer(self.num_features)\n",
        "        self.avgpool = nn.AdaptiveAvgPool1d(1)\n",
        "\n",
        "        # Classification Head\n",
        "        self.head = nn.Linear(self.num_features, num_classes) if num_classes > 0 else nn.Identity()\n",
        "\n",
        "        self.apply(self._init_weights)\n",
        "\n",
        "    def _init_weights(self, m):\n",
        "        if isinstance(m, nn.Linear):\n",
        "            trunc_normal_(m.weight, std=.02)\n",
        "            if isinstance(m, nn.Linear) and m.bias is not None:\n",
        "                nn.init.constant_(m.bias, 0)\n",
        "        elif isinstance(m, nn.LayerNorm):\n",
        "            nn.init.constant_(m.bias, 0)\n",
        "            nn.init.constant_(m.weight, 1.0)\n",
        "\n",
        "    def forward_features(self, x):\n",
        "        x = self.patch_embed(x)\n",
        "        x = self.pos_drop(x)\n",
        "\n",
        "        for layer in self.layers:\n",
        "            x = layer(x)\n",
        "\n",
        "        x = self.norm(x) # (B, L, C)\n",
        "        x = self.avgpool(x.transpose(1, 2)) # (B, C, 1)\n",
        "        x = torch.flatten(x, 1)\n",
        "        return x\n",
        "\n",
        "    def forward(self, x):\n",
        "        x = self.forward_features(x)\n",
        "        x = self.head(x)\n",
        "        return x\n"
      ],
      "metadata": {
        "id": "3dmMHoKxOYSY"
      },
      "execution_count": null,
      "outputs": []
    },
    {
      "cell_type": "code",
      "source": [
        "\n",
        "class BasicLayer(nn.Module):\n",
        "    def __init__(self, dim, input_resolution, depth, num_heads, window_size,\n",
        "                 mlp_ratio=4., qkv_bias=True, qk_scale=None, drop=0., attn_drop=0.,\n",
        "                 drop_path=0., norm_layer=nn.LayerNorm, downsample=None, use_checkpoint=False):\n",
        "        super().__init__()\n",
        "        self.dim = dim\n",
        "        self.input_resolution = input_resolution\n",
        "        self.depth = depth\n",
        "        self.use_checkpoint = use_checkpoint\n",
        "\n",
        "        # Build  Swin-Transformer Blocks\n",
        "        self.blocks = nn.ModuleList([\n",
        "            SwinTransformerBlock(dim=dim, input_resolution=input_resolution,\n",
        "                                 num_heads=num_heads, window_size=window_size,\n",
        "                                 shift_size=0 if (i % 2 == 0) else window_size // 2,\n",
        "                                 mlp_ratio = mlp_ratio,\n",
        "                                 qkv_bias=qkv_bias, qk_scale=qk_scale,\n",
        "                                 drop=drop, attn_drop=attn_drop,\n",
        "                                 drop_path=drop_path[i] if isinstance(drop_path, list) else drop_path,\n",
        "                                 norm_layer=norm_layer\n",
        "                                )\n",
        "            for i in range(depth)\n",
        "        ])\n",
        "\n",
        "\n",
        "        # Patch Merging Layer\n",
        "        if downsample is not None:\n",
        "            self.downsample = downsample(input_resolution, dim=dim, norm_layer=norm_layer)\n",
        "        else:\n",
        "            self.downsample = None\n",
        "\n",
        "\n",
        "    def forward(self, x):\n",
        "        for blk in self.blocks:\n",
        "            x = blk(x)\n",
        "\n",
        "        if self.downsample is not None:\n",
        "            x = self.downsample(x)\n",
        "\n",
        "        return x\n"
      ],
      "metadata": {
        "id": "1v_Q9n6bHwDV"
      },
      "execution_count": null,
      "outputs": []
    },
    {
      "cell_type": "markdown",
      "source": [
        "Stage 1\n"
      ],
      "metadata": {
        "id": "dkGN4A9LioI5"
      }
    },
    {
      "cell_type": "code",
      "source": [
        "stage_1 = BasicLayer(dim=128, input_resolution=(4, 4), depth=2, num_heads=4, window_size=7)\n",
        "\n",
        "# Pass the patch embeddings through the BasicLayer\n",
        "output = stage_1(patches)\n",
        "print(output.shape)\n",
        "output"
      ],
      "metadata": {
        "colab": {
          "base_uri": "https://localhost:8080/"
        },
        "id": "yLTO-DANinBU",
        "outputId": "5da706a7-a57b-4b36-dfdd-c10f6f01875c"
      },
      "execution_count": null,
      "outputs": [
        {
          "output_type": "stream",
          "name": "stdout",
          "text": [
            "torch.Size([1, 16, 128])\n"
          ]
        },
        {
          "output_type": "execute_result",
          "data": {
            "text/plain": [
              "tensor([[[-0.4190, -0.7563, -0.8105,  ...,  0.6297,  0.4798, -0.5649],\n",
              "         [-0.3977, -0.8002, -0.7496,  ...,  0.6237,  0.4607, -0.5449],\n",
              "         [-1.3915, -0.9089, -0.7139,  ...,  0.1024,  0.6572, -0.4055],\n",
              "         ...,\n",
              "         [ 0.5752,  0.2125, -0.3761,  ...,  0.5891, -0.0957, -0.3118],\n",
              "         [ 0.0665, -0.3091, -0.7166,  ...,  1.0115,  0.1487, -0.6597],\n",
              "         [-0.3602, -0.8059, -0.9385,  ...,  0.8065,  0.5675, -0.5291]]],\n",
              "       grad_fn=<AddBackward0>)"
            ]
          },
          "metadata": {},
          "execution_count": 243
        }
      ]
    },
    {
      "cell_type": "markdown",
      "source": [
        "Knowledge Distillation"
      ],
      "metadata": {
        "id": "M0bwV24yaThi"
      }
    },
    {
      "cell_type": "code",
      "source": [
        "# Define the KL Divergence loss with temperature scaling\n",
        "class DistillationLoss(nn.Module):\n",
        "    def __init__(self, temperature=4):\n",
        "        super(DistillationLoss, self).__init__()\n",
        "        self.temperature = temperature\n",
        "\n",
        "    def forward(self, student_outputs, teacher_outputs):\n",
        "        soft_teacher_outputs = F.softmax(teacher_outputs / self.temperature, dim=1)\n",
        "        soft_student_outputs = F.log_softmax(student_outputs / self.temperature, dim=1)\n",
        "        loss = F.kl_div(soft_student_outputs, soft_teacher_outputs, reduction='batchmean')\n",
        "        return loss\n",
        "\n",
        "# Instantiate the distillation loss\n",
        "distillation_loss = DistillationLoss(temperature=4)"
      ],
      "metadata": {
        "id": "bqf2_UsWaTN4"
      },
      "execution_count": null,
      "outputs": []
    },
    {
      "cell_type": "markdown",
      "source": [
        "Train Swim"
      ],
      "metadata": {
        "id": "fAOVU22MaCaT"
      }
    },
    {
      "cell_type": "code",
      "source": [
        "# Example instantiation\n",
        "swin_model = SimpleSwinTransformer(img_size=28, patch_size=4, in_chans=1, num_classes=3,\n",
        "                                   embed_dim=96, depths=[2, 2], num_heads=[3, 6], window_size=7)\n"
      ],
      "metadata": {
        "id": "S2_YnWguIYo_"
      },
      "execution_count": null,
      "outputs": []
    },
    {
      "cell_type": "code",
      "source": [
        "import torch\n",
        "\n",
        "# Define the Swin Transformer model (make sure this matches the final model you implemented)\n",
        "swin_model = SimpleSwinTransformer(\n",
        "    img_size=28,\n",
        "    patch_size=2,\n",
        "    in_chans=1,\n",
        "    num_classes=3,\n",
        "    embed_dim=96,\n",
        "    depths=[2, 2],\n",
        "    num_heads=[3, 6],\n",
        "    window_size=7\n",
        ")\n",
        "\n",
        "# Create a dummy input tensor\n",
        "# Simulate a batch of 2 images, each with 1 channel, and size 28x28\n",
        "dummy_input = torch.randn(2, 1, 28, 28)\n",
        "\n",
        "# Pass the dummy input through the model\n",
        "output = swin_model(dummy_input)\n",
        "\n",
        "# Print out the shape of the output tensor\n",
        "print(\"Output shape:\", output.shape)\n"
      ],
      "metadata": {
        "colab": {
          "base_uri": "https://localhost:8080/"
        },
        "id": "lWKox-fSNqVq",
        "outputId": "75d9f069-18e4-4335-9b64-51356f5d41c0"
      },
      "execution_count": null,
      "outputs": [
        {
          "output_type": "stream",
          "name": "stdout",
          "text": [
            "Output shape: torch.Size([2, 3])\n"
          ]
        }
      ]
    },
    {
      "cell_type": "code",
      "source": [
        "\n",
        "\n",
        "# Assume vit_model is your pre-trained Vision Transformer model\n",
        "vit_model = VisionTransformer()  # example configuration\n",
        "vit_model.load_state_dict(torch.load(\"/content/vit_model.pth\"))  # Load pre-trained ViT weights\n",
        "vit_model.eval()\n",
        "\n",
        "# Training settings\n",
        "num_epochs = 30\n",
        "learning_rate = 0.0001  # Example learning rate\n",
        "optimizer = optim.Adam(swin_model.parameters(), lr=learning_rate)\n",
        "\n",
        "# Training loop\n",
        "for epoch in range(num_epochs):\n",
        "    swin_model.train()\n",
        "    running_loss = 0.0\n",
        "    for images, _ in Swim_train_loader:  # Ground truth labels are not used\n",
        "        optimizer.zero_grad()\n",
        "\n",
        "        # Get teacher model predictions\n",
        "        with torch.no_grad():\n",
        "            teacher_outputs = vit_model(images)\n",
        "\n",
        "        # Get student model predictions\n",
        "        student_outputs = swin_model(images)\n",
        "\n",
        "        # Compute distillation loss\n",
        "        loss = distillation_loss(student_outputs, teacher_outputs)\n",
        "\n",
        "        # Backpropagation and optimization\n",
        "        loss.backward()\n",
        "        optimizer.step()\n",
        "        running_loss += loss.item()\n",
        "\n",
        "    print(f\"Epoch {epoch+1}/{num_epochs}, Loss: {running_loss/len(train_loader)}\")\n"
      ],
      "metadata": {
        "id": "pMu84u7IYguQ",
        "colab": {
          "base_uri": "https://localhost:8080/"
        },
        "outputId": "60987bd3-a864-49fa-a3c1-36c96e397093"
      },
      "execution_count": null,
      "outputs": [
        {
          "output_type": "stream",
          "name": "stderr",
          "text": [
            "<ipython-input-249-a17b3ebc4fc1>:3: FutureWarning: You are using `torch.load` with `weights_only=False` (the current default value), which uses the default pickle module implicitly. It is possible to construct malicious pickle data which will execute arbitrary code during unpickling (See https://github.com/pytorch/pytorch/blob/main/SECURITY.md#untrusted-models for more details). In a future release, the default value for `weights_only` will be flipped to `True`. This limits the functions that could be executed during unpickling. Arbitrary objects will no longer be allowed to be loaded via this mode unless they are explicitly allowlisted by the user via `torch.serialization.add_safe_globals`. We recommend you start setting `weights_only=True` for any use case where you don't have full control of the loaded file. Please open an issue on GitHub for any issues related to this experimental feature.\n",
            "  vit_model.load_state_dict(torch.load(\"/content/vit_model.pth\"))  # Load pre-trained ViT weights\n"
          ]
        },
        {
          "output_type": "stream",
          "name": "stdout",
          "text": [
            "Epoch 1/30, Loss: 0.05375007566064596\n",
            "Epoch 2/30, Loss: 0.048219986353069545\n",
            "Epoch 3/30, Loss: 0.03748925087973475\n",
            "Epoch 4/30, Loss: 0.034500099327415226\n",
            "Epoch 5/30, Loss: 0.0327657494880259\n",
            "Epoch 6/30, Loss: 0.053005581311881544\n",
            "Epoch 7/30, Loss: 0.04563612747937441\n",
            "Epoch 8/30, Loss: 0.048875913638621565\n",
            "Epoch 9/30, Loss: 0.040633688289672135\n",
            "Epoch 10/30, Loss: 0.03297023698687553\n",
            "Epoch 11/30, Loss: 0.03956006467342377\n",
            "Epoch 12/30, Loss: 0.03692299088463187\n",
            "Epoch 13/30, Loss: 0.02984450859948993\n",
            "Epoch 14/30, Loss: 0.03063065208494663\n",
            "Epoch 15/30, Loss: 0.02712597830221057\n",
            "Epoch 16/30, Loss: 0.03464750539511442\n",
            "Epoch 17/30, Loss: 0.03307199776172638\n",
            "Epoch 18/30, Loss: 0.03254819005727768\n",
            "Epoch 19/30, Loss: 0.02659903798252344\n",
            "Epoch 20/30, Loss: 0.033464576583355665\n",
            "Epoch 21/30, Loss: 0.029151382744312285\n",
            "Epoch 22/30, Loss: 0.04114882891997695\n",
            "Epoch 23/30, Loss: 0.03273942470550537\n",
            "Epoch 24/30, Loss: 0.03030054096132517\n",
            "Epoch 25/30, Loss: 0.023956729490309955\n",
            "Epoch 26/30, Loss: 0.02582424646243453\n",
            "Epoch 27/30, Loss: 0.025766992764547466\n",
            "Epoch 28/30, Loss: 0.031991244815289976\n",
            "Epoch 29/30, Loss: 0.02733114695176482\n",
            "Epoch 30/30, Loss: 0.02395142389461398\n"
          ]
        }
      ]
    },
    {
      "cell_type": "markdown",
      "source": [
        "Evaluation SWIM"
      ],
      "metadata": {
        "id": "LM78LOFhbA7m"
      }
    },
    {
      "cell_type": "code",
      "source": [
        "# Evaluation function\n",
        "def evaluate_model(model, test_loader):\n",
        "    model.eval()\n",
        "    all_preds = []\n",
        "    all_labels = []\n",
        "    with torch.no_grad():\n",
        "        for images, labels in Swim_test_loader:\n",
        "            outputs = model(images)\n",
        "            _, preds = torch.max(outputs, 1)\n",
        "            all_preds.append(preds)\n",
        "            all_labels.append(labels)\n",
        "    all_preds = torch.cat(all_preds)\n",
        "    all_labels = torch.cat(all_labels)\n",
        "\n",
        "    accuracy = (all_preds == all_labels).float().mean().item()\n",
        "    print(f\"Classification Accuracy: {accuracy * 100:.2f}%\")\n",
        "\n",
        "    cm = confusion_matrix(all_labels.numpy(), all_preds.numpy())\n",
        "    sns.heatmap(cm, annot=True, fmt='d', cmap='Blues', xticklabels=[0, 1, 2], yticklabels=[0, 1, 2])\n",
        "    plt.xlabel('Predicted')\n",
        "    plt.ylabel('True')\n",
        "    plt.show()\n",
        "\n",
        "    print(classification_report(all_labels.numpy(), all_preds.numpy()))\n",
        "\n",
        "# Evaluate Swin model on the test set\n",
        "evaluate_model(swin_model, test_loader)\n"
      ],
      "metadata": {
        "colab": {
          "base_uri": "https://localhost:8080/",
          "height": 640
        },
        "id": "i0OX1HqBaEi2",
        "outputId": "51b8d2c4-eb39-4508-b950-e04999b6d6e3"
      },
      "execution_count": null,
      "outputs": [
        {
          "output_type": "stream",
          "name": "stdout",
          "text": [
            "Classification Accuracy: 92.67%\n"
          ]
        },
        {
          "output_type": "display_data",
          "data": {
            "text/plain": [
              "<Figure size 640x480 with 2 Axes>"
            ],
            "image/png": "[encoded data removed]"
          },
          "metadata": {}
        },
        {
          "output_type": "stream",
          "name": "stdout",
          "text": [
            "              precision    recall  f1-score   support\n",
            "\n",
            "           0       0.95      0.91      0.93       100\n",
            "           1       0.93      0.99      0.96       100\n",
            "           2       0.90      0.88      0.89       100\n",
            "\n",
            "    accuracy                           0.93       300\n",
            "   macro avg       0.93      0.93      0.93       300\n",
            "weighted avg       0.93      0.93      0.93       300\n",
            "\n"
          ]
        }
      ]
    },
    {
      "cell_type": "code",
      "source": [],
      "metadata": {
        "id": "P80DOaK3jUPE"
      },
      "execution_count": null,
      "outputs": []
    }
  ]
}